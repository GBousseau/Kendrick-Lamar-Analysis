{
 "cells": [
  {
   "cell_type": "markdown",
   "metadata": {},
   "source": [
    "KENDRICK LAMAR MUSIC CLASSIFICATION AND RECOMANDNATION SYSTEM\n",
    "1. importation of modules and data loading\n",
    "2. data cleaning\n",
    "3. data exploration\n",
    "4. k-means clustering\n",
    "5. clustering analysis\n",
    "6. Recommendation system"
   ]
  },
  {
   "cell_type": "markdown",
   "metadata": {},
   "source": [
    "1. IMPORTATION OF MODULES AND DATA LOADING"
   ]
  },
  {
   "cell_type": "code",
   "execution_count": 408,
   "metadata": {
    "_cell_guid": "b1076dfc-b9ad-4769-8c92-a6c4dae69d19",
    "_uuid": "8f2839f25d086af736a60e9eeb907d3b93b6e0e5",
    "editable": false,
    "trusted": true
   },
   "outputs": [],
   "source": [
    "import pandas as pd\n",
    "import numpy as np\n",
    "\n",
    "import matplotlib.pyplot as plt\n",
    "from mpl_toolkits.mplot3d import Axes3D\n",
    "import seaborn as sns\n",
    "import plotly.express as px\n",
    "\n",
    "from sklearn.linear_model import LinearRegression\n",
    "from sklearn.preprocessing import MinMaxScaler\n",
    "from sklearn.cluster import KMeans\n",
    "from sklearn.metrics import silhouette_score\n",
    "\n",
    "\n",
    "from scipy.spatial import distance\n",
    "\n",
    "df = pd.read_csv(\"discog_data.csv\")\n",
    "\n"
   ]
  },
  {
   "cell_type": "markdown",
   "metadata": {},
   "source": [
    "2. DATA CLEANING"
   ]
  },
  {
   "cell_type": "code",
   "execution_count": 409,
   "metadata": {},
   "outputs": [
    {
     "data": {
      "text/html": [
       "<div>\n",
       "<style scoped>\n",
       "    .dataframe tbody tr th:only-of-type {\n",
       "        vertical-align: middle;\n",
       "    }\n",
       "\n",
       "    .dataframe tbody tr th {\n",
       "        vertical-align: top;\n",
       "    }\n",
       "\n",
       "    .dataframe thead th {\n",
       "        text-align: right;\n",
       "    }\n",
       "</style>\n",
       "<table border=\"1\" class=\"dataframe\">\n",
       "  <thead>\n",
       "    <tr style=\"text-align: right;\">\n",
       "      <th></th>\n",
       "      <th>track_name</th>\n",
       "      <th>album</th>\n",
       "      <th>release_date</th>\n",
       "      <th>duration_ms</th>\n",
       "      <th>popularity</th>\n",
       "      <th>speechiness</th>\n",
       "      <th>danceability</th>\n",
       "      <th>tempo</th>\n",
       "      <th>lyrics</th>\n",
       "    </tr>\n",
       "  </thead>\n",
       "  <tbody>\n",
       "    <tr>\n",
       "      <th>0</th>\n",
       "      <td>Growing Apart</td>\n",
       "      <td>Overly Dedicated</td>\n",
       "      <td>2010-09-14</td>\n",
       "      <td>220995</td>\n",
       "      <td>52</td>\n",
       "      <td>0.3660</td>\n",
       "      <td>0.586</td>\n",
       "      <td>106.835</td>\n",
       "      <td>Where are we going? Why are we slowing down?\\n...</td>\n",
       "    </tr>\n",
       "    <tr>\n",
       "      <th>1</th>\n",
       "      <td>Ignorance Is Bliss</td>\n",
       "      <td>Overly Dedicated</td>\n",
       "      <td>2010-09-14</td>\n",
       "      <td>210494</td>\n",
       "      <td>55</td>\n",
       "      <td>0.3870</td>\n",
       "      <td>0.644</td>\n",
       "      <td>82.156</td>\n",
       "      <td>Lord forgive me\\nKill him where he stand and s...</td>\n",
       "    </tr>\n",
       "    <tr>\n",
       "      <th>2</th>\n",
       "      <td>P&amp;P 1.5</td>\n",
       "      <td>Overly Dedicated</td>\n",
       "      <td>2010-09-14</td>\n",
       "      <td>361942</td>\n",
       "      <td>54</td>\n",
       "      <td>0.3690</td>\n",
       "      <td>0.550</td>\n",
       "      <td>146.453</td>\n",
       "      <td>Oh, what up ho? Oh, what up?\\nI said, oh, what...</td>\n",
       "    </tr>\n",
       "    <tr>\n",
       "      <th>3</th>\n",
       "      <td>Alien Girl</td>\n",
       "      <td>Overly Dedicated</td>\n",
       "      <td>2010-09-14</td>\n",
       "      <td>239973</td>\n",
       "      <td>51</td>\n",
       "      <td>0.0367</td>\n",
       "      <td>0.626</td>\n",
       "      <td>95.948</td>\n",
       "      <td>She look better than Beyoncé, Alicia Keys, Hal...</td>\n",
       "    </tr>\n",
       "    <tr>\n",
       "      <th>4</th>\n",
       "      <td>Opposites Attract</td>\n",
       "      <td>Overly Dedicated</td>\n",
       "      <td>2010-09-14</td>\n",
       "      <td>271909</td>\n",
       "      <td>53</td>\n",
       "      <td>0.4350</td>\n",
       "      <td>0.608</td>\n",
       "      <td>192.157</td>\n",
       "      <td>Uh, yeah, uh, yeah\\nUh, yeah, uh\\nWe hurt peop...</td>\n",
       "    </tr>\n",
       "  </tbody>\n",
       "</table>\n",
       "</div>"
      ],
      "text/plain": [
       "           track_name             album release_date  duration_ms  popularity  \\\n",
       "0       Growing Apart  Overly Dedicated   2010-09-14       220995          52   \n",
       "1  Ignorance Is Bliss  Overly Dedicated   2010-09-14       210494          55   \n",
       "2             P&P 1.5  Overly Dedicated   2010-09-14       361942          54   \n",
       "3          Alien Girl  Overly Dedicated   2010-09-14       239973          51   \n",
       "4   Opposites Attract  Overly Dedicated   2010-09-14       271909          53   \n",
       "\n",
       "   speechiness  danceability    tempo  \\\n",
       "0       0.3660         0.586  106.835   \n",
       "1       0.3870         0.644   82.156   \n",
       "2       0.3690         0.550  146.453   \n",
       "3       0.0367         0.626   95.948   \n",
       "4       0.4350         0.608  192.157   \n",
       "\n",
       "                                              lyrics  \n",
       "0  Where are we going? Why are we slowing down?\\n...  \n",
       "1  Lord forgive me\\nKill him where he stand and s...  \n",
       "2  Oh, what up ho? Oh, what up?\\nI said, oh, what...  \n",
       "3  She look better than Beyoncé, Alicia Keys, Hal...  \n",
       "4  Uh, yeah, uh, yeah\\nUh, yeah, uh\\nWe hurt peop...  "
      ]
     },
     "execution_count": 409,
     "metadata": {},
     "output_type": "execute_result"
    }
   ],
   "source": [
    "#Check what dataframe looklike\n",
    "df.head(5)"
   ]
  },
  {
   "cell_type": "code",
   "execution_count": 410,
   "metadata": {},
   "outputs": [
    {
     "data": {
      "text/plain": [
       "track_name      0\n",
       "album           0\n",
       "release_date    0\n",
       "duration_ms     0\n",
       "popularity      0\n",
       "speechiness     1\n",
       "danceability    1\n",
       "tempo           1\n",
       "lyrics          0\n",
       "dtype: int64"
      ]
     },
     "execution_count": 410,
     "metadata": {},
     "output_type": "execute_result"
    }
   ],
   "source": [
    "#Check if there are no missing values\n",
    "df.isna().sum()"
   ]
  },
  {
   "cell_type": "code",
   "execution_count": 411,
   "metadata": {},
   "outputs": [
    {
     "name": "stdout",
     "output_type": "stream",
     "text": [
      "    track_name        album release_date  duration_ms  popularity  \\\n",
      "99  6:16 in LA  Diss Tracks   2024-05-03       225000          80   \n",
      "\n",
      "    speechiness  danceability  tempo  \\\n",
      "99          NaN           NaN    NaN   \n",
      "\n",
      "                                               lyrics  \n",
      "99  Uh (Uh)\\nUh (Uh)\\nUh, yeah (Uh)\\nIt's survival...  \n"
     ]
    }
   ],
   "source": [
    "# Find the track where 'speechiness' is null\n",
    "filtered_df = df[df['speechiness'].isnull()]\n",
    "print(filtered_df)"
   ]
  },
  {
   "cell_type": "code",
   "execution_count": 412,
   "metadata": {},
   "outputs": [
    {
     "name": "stdout",
     "output_type": "stream",
     "text": [
      "             track_name                          album release_date  \\\n",
      "0         Growing Apart               Overly Dedicated   2010-09-14   \n",
      "1    Ignorance Is Bliss               Overly Dedicated   2010-09-14   \n",
      "2               P&P 1.5               Overly Dedicated   2010-09-14   \n",
      "3            Alien Girl               Overly Dedicated   2010-09-14   \n",
      "4     Opposites Attract               Overly Dedicated   2010-09-14   \n",
      "..                  ...                            ...          ...   \n",
      "96               Mirror  Mr. Morale & The Big Steppers   2022-05-13   \n",
      "97     The Heart Part 5  Mr. Morale & The Big Steppers   2022-05-13   \n",
      "98             euphoria                    Diss Tracks   2024-04-30   \n",
      "100    meet the grahams                    Diss Tracks   2024-05-03   \n",
      "101         Not Like Us                    Diss Tracks   2024-05-04   \n",
      "\n",
      "     duration_ms  popularity  speechiness  danceability    tempo  \\\n",
      "0         220995          52       0.3660         0.586  106.835   \n",
      "1         210494          55       0.3870         0.644   82.156   \n",
      "2         361942          54       0.3690         0.550  146.453   \n",
      "3         239973          51       0.0367         0.626   95.948   \n",
      "4         271909          53       0.4350         0.608  192.157   \n",
      "..           ...         ...          ...           ...      ...   \n",
      "96        256006          67       0.0639         0.652   91.933   \n",
      "97        332228          65       0.2970         0.700   97.405   \n",
      "98        383639          94       0.1100         0.831  139.948   \n",
      "100       392138          87       0.3090         0.479   74.980   \n",
      "101       274192          96       0.0776         0.898  101.061   \n",
      "\n",
      "                                                lyrics  \n",
      "0    Where are we going? Why are we slowing down?\\n...  \n",
      "1    Lord forgive me\\nKill him where he stand and s...  \n",
      "2    Oh, what up ho? Oh, what up?\\nI said, oh, what...  \n",
      "3    She look better than Beyoncé, Alicia Keys, Hal...  \n",
      "4    Uh, yeah, uh, yeah\\nUh, yeah, uh\\nWe hurt peop...  \n",
      "..                                                 ...  \n",
      "96   The pressure's taking over me, it's beginning ...  \n",
      "97   As I get a little older, I realize life is per...  \n",
      "98   ​eurt si em tuoba yas yeht gnihtyrev\\nE\\nEupho...  \n",
      "100  Dear Adonis\\nI'm sorry that that man is your f...  \n",
      "101  Psst, I see dead people\\n(Mustard on the beat,...  \n",
      "\n",
      "[101 rows x 9 columns]\n"
     ]
    }
   ],
   "source": [
    "# Because the 3 missing values correspond to a same track lets is delete it by removing the row where 'speechiness' is null\n",
    "df_cleaned = df.dropna(subset=['speechiness'])\n",
    "\n",
    "# Print the cleaned dataframe\n",
    "print(df_cleaned)"
   ]
  },
  {
   "cell_type": "code",
   "execution_count": 413,
   "metadata": {},
   "outputs": [
    {
     "data": {
      "text/plain": [
       "track_name       object\n",
       "album            object\n",
       "release_date     object\n",
       "duration_ms       int64\n",
       "popularity        int64\n",
       "speechiness     float64\n",
       "danceability    float64\n",
       "tempo           float64\n",
       "lyrics           object\n",
       "dtype: object"
      ]
     },
     "execution_count": 413,
     "metadata": {},
     "output_type": "execute_result"
    }
   ],
   "source": [
    "#Check if the variables are correctly stored\n",
    "df_cleaned.dtypes"
   ]
  },
  {
   "cell_type": "code",
   "execution_count": 414,
   "metadata": {},
   "outputs": [],
   "source": [
    "# Had to convert 'release_date' to datetime\n",
    "df['release_date'] = pd.to_datetime(df['release_date'])"
   ]
  },
  {
   "cell_type": "markdown",
   "metadata": {},
   "source": [
    "3. DATA EXPLORATION"
   ]
  },
  {
   "cell_type": "markdown",
   "metadata": {},
   "source": [
    "It seems that the dataset is now ready to be used, let is try to retrieve relevant and interesting information from it"
   ]
  },
  {
   "cell_type": "markdown",
   "metadata": {},
   "source": [
    "3.1 Top 10 charts"
   ]
  },
  {
   "cell_type": "code",
   "execution_count": 415,
   "metadata": {},
   "outputs": [
    {
     "name": "stdout",
     "output_type": "stream",
     "text": [
      "Top 10 Kendrick Lamar Tracks:\n",
      "           track_name                          album  popularity\n",
      "101       Not Like Us                    Diss Tracks          96\n",
      "98           euphoria                    Diss Tracks          94\n",
      "100  meet the grahams                    Diss Tracks          87\n",
      "72            HUMBLE.                          DAMN.          86\n",
      "71             PRIDE.                          DAMN.          85\n",
      "74              LOVE.                          DAMN.          85\n",
      "67               DNA.                          DAMN.          82\n",
      "48            Alright            To Pimp A Butterfly          82\n",
      "80                N95  Mr. Morale & The Big Steppers          80\n",
      "70           LOYALTY.                          DAMN.          79\n"
     ]
    }
   ],
   "source": [
    "# Sort the tracks by popularity in descending order (higher popularity first)\n",
    "top_tracks = df_cleaned.sort_values(by='popularity', ascending=False)\n",
    "\n",
    "# Step 3: Select the top 10 tracks\n",
    "top_10_tracks = top_tracks.head(10)\n",
    "\n",
    "# Step 4: Display the top 10 tracks (with track name, album, and popularity)\n",
    "print(\"Top 10 Kendrick Lamar Tracks:\")\n",
    "print(top_10_tracks[['track_name', 'album', 'popularity']])"
   ]
  },
  {
   "cell_type": "markdown",
   "metadata": {},
   "source": [
    "3.2 Popularity over time :\n",
    "\n",
    "Now le is try to have bigger picture of Kendrick Lamar'song popularity in order to explain his success. Take a look at the popularity of Kendrick Lamar's tracks. We can easily see how the career of the artist has evolved looking at \n",
    "- album popularity\n",
    "- tracks popularity within albums"
   ]
  },
  {
   "cell_type": "code",
   "execution_count": 416,
   "metadata": {},
   "outputs": [
    {
     "name": "stderr",
     "output_type": "stream",
     "text": [
      "/var/folders/xk/_lxyx6nn61b0nzyx5vp0p0ph0000gn/T/ipykernel_5650/2973299525.py:2: SettingWithCopyWarning:\n",
      "\n",
      "\n",
      "A value is trying to be set on a copy of a slice from a DataFrame.\n",
      "Try using .loc[row_indexer,col_indexer] = value instead\n",
      "\n",
      "See the caveats in the documentation: https://pandas.pydata.org/pandas-docs/stable/user_guide/indexing.html#returning-a-view-versus-a-copy\n",
      "\n"
     ]
    },
    {
     "data": {
      "image/png": "[encoded data removed]",
      "text/plain": [
       "<Figure size 1200x800 with 1 Axes>"
      ]
     },
     "metadata": {},
     "output_type": "display_data"
    }
   ],
   "source": [
    "# Ensure 'release_date' is a datetime\n",
    "df_cleaned['release_date'] = pd.to_datetime(df_cleaned['release_date'])\n",
    "\n",
    "# Create the scatter plot\n",
    "plt.figure(figsize=(12, 8))\n",
    "scatter_plot = sns.scatterplot(data=df_cleaned, x='release_date', y='popularity',\n",
    "                               color='Purple',  s=50)\n",
    "\n",
    "# Customize the plot\n",
    "plt.title(\"Popularity of Kendrick Lamar Songs Over Time\", fontsize=16)\n",
    "plt.xlabel(\"Release Date\", fontsize=12)\n",
    "plt.ylabel(\"Popularity\", fontsize=12)\n",
    "plt.xticks(rotation=45)\n",
    "plt.grid(True)\n",
    "plt.show()"
   ]
  },
  {
   "cell_type": "code",
   "execution_count": 417,
   "metadata": {},
   "outputs": [
    {
     "data": {
      "application/vnd.plotly.v1+json": {
       "config": {
        "plotlyServerURL": "https://plot.ly"
       },
       "data": [
        {
         "customdata": [
          [
           "Growing Apart",
           "Overly Dedicated"
          ],
          [
           "Ignorance Is Bliss",
           "Overly Dedicated"
          ],
          [
           "P&P 1.5",
           "Overly Dedicated"
          ],
          [
           "Alien Girl",
           "Overly Dedicated"
          ],
          [
           "Opposites Attract",
           "Overly Dedicated"
          ],
          [
           "Michael Jordan",
           "Overly Dedicated"
          ],
          [
           "R.O.T.C",
           "Overly Dedicated"
          ],
          [
           "Barbed Wire",
           "Overly Dedicated"
          ],
          [
           "Average Joe",
           "Overly Dedicated"
          ],
          [
           "H.O.C",
           "Overly Dedicated"
          ],
          [
           "Cut You Off",
           "Overly Dedicated"
          ],
          [
           "She Needs Me",
           "Overly Dedicated"
          ],
          [
           "Fuck Your Ethnicity",
           "Section.80"
          ],
          [
           "Hol' Up",
           "Section.80"
          ],
          [
           "A.D.H.D",
           "Section.80"
          ],
          [
           "No Make",
           "Section.80"
          ],
          [
           "Tammy's Song",
           "Section.80"
          ],
          [
           "Chapter Six",
           "Section.80"
          ],
          [
           "Ronald Reagan Era",
           "Section.80"
          ],
          [
           "Poe Mans Dreams",
           "Section.80"
          ],
          [
           "Chapter Ten",
           "Section.80"
          ],
          [
           "Keisha's Song",
           "Section.80"
          ],
          [
           "Rigamortus",
           "Section.80"
          ],
          [
           "Kush & Corinthians",
           "Section.80"
          ],
          [
           "Blow My High",
           "Section.80"
          ],
          [
           "Ab",
           "Section.80"
          ],
          [
           "HiiiPower",
           "Section.80"
          ],
          [
           "Sherane a.k.a Master Splinter’s Daughter",
           "good kid, m.A.A.d city"
          ],
          [
           "Bitch, Don’t Kill My Vibe",
           "good kid, m.A.A.d city"
          ],
          [
           "Backseat Freestyle",
           "good kid, m.A.A.d city"
          ],
          [
           "The Art of Peer Pressure",
           "good kid, m.A.A.d city"
          ],
          [
           "Money Trees",
           "good kid, m.A.A.d city"
          ],
          [
           "Poetic Justice",
           "good kid, m.A.A.d city"
          ],
          [
           "good kid",
           "good kid, m.A.A.d city"
          ],
          [
           "m.A.A.d city",
           "good kid, m.A.A.d city"
          ],
          [
           "Swimming Pools",
           "good kid, m.A.A.d city"
          ],
          [
           "Sing About Me, I'm Dying Of Thirst",
           "good kid, m.A.A.d city"
          ],
          [
           "Real",
           "good kid, m.A.A.d city"
          ],
          [
           "Compton",
           "good kid, m.A.A.d city"
          ],
          [
           "The Recipe",
           "good kid, m.A.A.d city"
          ],
          [
           "Black Boy Fly",
           "good kid, m.A.A.d city"
          ],
          [
           "Now Or Never",
           "good kid, m.A.A.d city"
          ],
          [
           "Wesley's Theory",
           "To Pimp A Butterfly"
          ],
          [
           "For Free?",
           "To Pimp A Butterfly"
          ],
          [
           "King Kunta",
           "To Pimp A Butterfly"
          ],
          [
           "Institutionalized",
           "To Pimp A Butterfly"
          ],
          [
           "These Walls",
           "To Pimp A Butterfly"
          ],
          [
           "u",
           "To Pimp A Butterfly"
          ],
          [
           "Alright",
           "To Pimp A Butterfly"
          ],
          [
           "For Sale?",
           "To Pimp A Butterfly"
          ],
          [
           "Momma",
           "To Pimp A Butterfly"
          ],
          [
           "Hood Politics",
           "To Pimp A Butterfly"
          ],
          [
           "How Much A Dollar Cost",
           "To Pimp A Butterfly"
          ],
          [
           "Complexion",
           "To Pimp A Butterfly"
          ],
          [
           "The Blacker The Berry",
           "To Pimp A Butterfly"
          ],
          [
           "You Ain't Gotta Lie",
           "To Pimp A Butterfly"
          ],
          [
           "i",
           "To Pimp A Butterfly"
          ],
          [
           "Mortal Man",
           "To Pimp A Butterfly"
          ],
          [
           "untitled 01 | 08.19.2014.",
           "untitled unmastered."
          ],
          [
           "untitled 02 | 06.23.2014.",
           "untitled unmastered."
          ],
          [
           "untitled 03 | 05.28.2013.",
           "untitled unmastered."
          ],
          [
           "untitled 04 | 08.14.2014.",
           "untitled unmastered."
          ],
          [
           "untitled 05 | 09.21.2014.",
           "untitled unmastered."
          ],
          [
           "untitled 06 | 06.30.2014.",
           "untitled unmastered."
          ],
          [
           "untitled 07 | 2014",
           "untitled unmastered."
          ],
          [
           "untitled 08 | 09.06.2014.",
           "untitled unmastered."
          ],
          [
           "BLOOD.",
           "DAMN."
          ],
          [
           "DNA.",
           "DAMN."
          ],
          [
           "YAH.",
           "DAMN."
          ],
          [
           "ELEMENT.",
           "DAMN."
          ],
          [
           "LOYALTY.",
           "DAMN."
          ],
          [
           "PRIDE.",
           "DAMN."
          ],
          [
           "HUMBLE.",
           "DAMN."
          ],
          [
           "LUST.",
           "DAMN."
          ],
          [
           "LOVE.",
           "DAMN."
          ],
          [
           "XXX.",
           "DAMN."
          ],
          [
           "FEAR.",
           "DAMN."
          ],
          [
           "GOD.",
           "DAMN."
          ],
          [
           "DUCKWORTH.",
           "DAMN."
          ],
          [
           "United In Grief",
           "Mr. Morale & The Big Steppers"
          ],
          [
           "N95",
           "Mr. Morale & The Big Steppers"
          ],
          [
           "Worldwide Steppers",
           "Mr. Morale & The Big Steppers"
          ],
          [
           "Die Hard",
           "Mr. Morale & The Big Steppers"
          ],
          [
           "Father Time",
           "Mr. Morale & The Big Steppers"
          ],
          [
           "Rich",
           "Mr. Morale & The Big Steppers"
          ],
          [
           "Rich Spirit",
           "Mr. Morale & The Big Steppers"
          ],
          [
           "We Cry Together",
           "Mr. Morale & The Big Steppers"
          ],
          [
           "Purple Hearts",
           "Mr. Morale & The Big Steppers"
          ],
          [
           "Count Me Out",
           "Mr. Morale & The Big Steppers"
          ],
          [
           "Crown",
           "Mr. Morale & The Big Steppers"
          ],
          [
           "Silent Hill",
           "Mr. Morale & The Big Steppers"
          ],
          [
           "Savior - Interlude",
           "Mr. Morale & The Big Steppers"
          ],
          [
           "Savior",
           "Mr. Morale & The Big Steppers"
          ],
          [
           "Auntie Diaries",
           "Mr. Morale & The Big Steppers"
          ],
          [
           "Mr. Morale",
           "Mr. Morale & The Big Steppers"
          ],
          [
           "Mother I Sober",
           "Mr. Morale & The Big Steppers"
          ],
          [
           "Mirror",
           "Mr. Morale & The Big Steppers"
          ],
          [
           "The Heart Part 5",
           "Mr. Morale & The Big Steppers"
          ],
          [
           "euphoria",
           "Diss Tracks"
          ],
          [
           "meet the grahams",
           "Diss Tracks"
          ],
          [
           "Not Like Us",
           "Diss Tracks"
          ]
         ],
         "hovertemplate": "release_date=%{x}<br>popularity=%{y}<br>track_name=%{customdata[0]}<br>album=%{customdata[1]}<extra></extra>",
         "legendgroup": "",
         "marker": {
          "color": "#636efa",
          "symbol": "circle"
         },
         "mode": "markers",
         "name": "",
         "orientation": "v",
         "showlegend": false,
         "type": "scatter",
         "x": [
          "2010-09-14T00:00:00",
          "2010-09-14T00:00:00",
          "2010-09-14T00:00:00",
          "2010-09-14T00:00:00",
          "2010-09-14T00:00:00",
          "2010-09-14T00:00:00",
          "2010-09-14T00:00:00",
          "2010-09-14T00:00:00",
          "2010-09-14T00:00:00",
          "2010-09-14T00:00:00",
          "2010-09-14T00:00:00",
          "2010-09-14T00:00:00",
          "2011-07-02T00:00:00",
          "2011-07-02T00:00:00",
          "2011-07-02T00:00:00",
          "2011-07-02T00:00:00",
          "2011-07-02T00:00:00",
          "2011-07-02T00:00:00",
          "2011-07-02T00:00:00",
          "2011-07-02T00:00:00",
          "2011-07-02T00:00:00",
          "2011-07-02T00:00:00",
          "2011-07-02T00:00:00",
          "2011-07-02T00:00:00",
          "2011-07-02T00:00:00",
          "2011-07-02T00:00:00",
          "2011-07-02T00:00:00",
          "2012-10-22T00:00:00",
          "2012-10-22T00:00:00",
          "2012-10-22T00:00:00",
          "2012-10-22T00:00:00",
          "2012-10-22T00:00:00",
          "2012-10-22T00:00:00",
          "2012-10-22T00:00:00",
          "2012-10-22T00:00:00",
          "2012-10-22T00:00:00",
          "2012-10-22T00:00:00",
          "2012-10-22T00:00:00",
          "2012-10-22T00:00:00",
          "2012-10-22T00:00:00",
          "2012-10-22T00:00:00",
          "2012-10-22T00:00:00",
          "2015-03-16T00:00:00",
          "2015-03-16T00:00:00",
          "2015-03-16T00:00:00",
          "2015-03-16T00:00:00",
          "2015-03-16T00:00:00",
          "2015-03-16T00:00:00",
          "2015-03-16T00:00:00",
          "2015-03-16T00:00:00",
          "2015-03-16T00:00:00",
          "2015-03-16T00:00:00",
          "2015-03-16T00:00:00",
          "2015-03-16T00:00:00",
          "2015-03-16T00:00:00",
          "2015-03-16T00:00:00",
          "2015-03-16T00:00:00",
          "2015-03-16T00:00:00",
          "2016-03-04T00:00:00",
          "2016-03-04T00:00:00",
          "2016-03-04T00:00:00",
          "2016-03-04T00:00:00",
          "2016-03-04T00:00:00",
          "2016-03-04T00:00:00",
          "2016-03-04T00:00:00",
          "2016-03-04T00:00:00",
          "2017-04-14T00:00:00",
          "2017-04-14T00:00:00",
          "2017-04-14T00:00:00",
          "2017-04-14T00:00:00",
          "2017-04-14T00:00:00",
          "2017-04-14T00:00:00",
          "2017-04-14T00:00:00",
          "2017-04-14T00:00:00",
          "2017-04-14T00:00:00",
          "2017-04-14T00:00:00",
          "2017-04-14T00:00:00",
          "2017-04-14T00:00:00",
          "2017-04-14T00:00:00",
          "2022-05-13T00:00:00",
          "2022-05-13T00:00:00",
          "2022-05-13T00:00:00",
          "2022-05-13T00:00:00",
          "2022-05-13T00:00:00",
          "2022-05-13T00:00:00",
          "2022-05-13T00:00:00",
          "2022-05-13T00:00:00",
          "2022-05-13T00:00:00",
          "2022-05-13T00:00:00",
          "2022-05-13T00:00:00",
          "2022-05-13T00:00:00",
          "2022-05-13T00:00:00",
          "2022-05-13T00:00:00",
          "2022-05-13T00:00:00",
          "2022-05-13T00:00:00",
          "2022-05-13T00:00:00",
          "2022-05-13T00:00:00",
          "2022-05-13T00:00:00",
          "2024-04-30T00:00:00",
          "2024-05-03T00:00:00",
          "2024-05-04T00:00:00"
         ],
         "xaxis": "x",
         "y": [
          52,
          55,
          54,
          51,
          53,
          48,
          47,
          53,
          50,
          49,
          50,
          54,
          58,
          66,
          74,
          54,
          55,
          66,
          58,
          59,
          52,
          55,
          64,
          54,
          62,
          50,
          68,
          55,
          67,
          61,
          58,
          70,
          64,
          57,
          68,
          64,
          63,
          55,
          54,
          66,
          52,
          59,
          74,
          63,
          77,
          66,
          70,
          65,
          82,
          61,
          63,
          64,
          66,
          62,
          66,
          63,
          66,
          61,
          54,
          65,
          60,
          53,
          60,
          60,
          58,
          67,
          68,
          82,
          71,
          74,
          79,
          85,
          86,
          69,
          85,
          71,
          70,
          66,
          76,
          78,
          80,
          67,
          77,
          74,
          64,
          77,
          68,
          68,
          77,
          64,
          70,
          63,
          69,
          63,
          67,
          64,
          67,
          65,
          94,
          87,
          96
         ],
         "yaxis": "y"
        }
       ],
       "layout": {
        "height": 800,
        "legend": {
         "tracegroupgap": 0
        },
        "template": {
         "data": {
          "bar": [
           {
            "error_x": {
             "color": "#2a3f5f"
            },
            "error_y": {
             "color": "#2a3f5f"
            },
            "marker": {
             "line": {
              "color": "white",
              "width": 0.5
             },
             "pattern": {
              "fillmode": "overlay",
              "size": 10,
              "solidity": 0.2
             }
            },
            "type": "bar"
           }
          ],
          "barpolar": [
           {
            "marker": {
             "line": {
              "color": "white",
              "width": 0.5
             },
             "pattern": {
              "fillmode": "overlay",
              "size": 10,
              "solidity": 0.2
             }
            },
            "type": "barpolar"
           }
          ],
          "carpet": [
           {
            "aaxis": {
             "endlinecolor": "#2a3f5f",
             "gridcolor": "#C8D4E3",
             "linecolor": "#C8D4E3",
             "minorgridcolor": "#C8D4E3",
             "startlinecolor": "#2a3f5f"
            },
            "baxis": {
             "endlinecolor": "#2a3f5f",
             "gridcolor": "#C8D4E3",
             "linecolor": "#C8D4E3",
             "minorgridcolor": "#C8D4E3",
             "startlinecolor": "#2a3f5f"
            },
            "type": "carpet"
           }
          ],
          "choropleth": [
           {
            "colorbar": {
             "outlinewidth": 0,
             "ticks": ""
            },
            "type": "choropleth"
           }
          ],
          "contour": [
           {
            "colorbar": {
             "outlinewidth": 0,
             "ticks": ""
            },
            "colorscale": [
             [
              0,
              "#0d0887"
             ],
             [
              0.1111111111111111,
              "#46039f"
             ],
             [
              0.2222222222222222,
              "#7201a8"
             ],
             [
              0.3333333333333333,
              "#9c179e"
             ],
             [
              0.4444444444444444,
              "#bd3786"
             ],
             [
              0.5555555555555556,
              "#d8576b"
             ],
             [
              0.6666666666666666,
              "#ed7953"
             ],
             [
              0.7777777777777778,
              "#fb9f3a"
             ],
             [
              0.8888888888888888,
              "#fdca26"
             ],
             [
              1,
              "#f0f921"
             ]
            ],
            "type": "contour"
           }
          ],
          "contourcarpet": [
           {
            "colorbar": {
             "outlinewidth": 0,
             "ticks": ""
            },
            "type": "contourcarpet"
           }
          ],
          "heatmap": [
           {
            "colorbar": {
             "outlinewidth": 0,
             "ticks": ""
            },
            "colorscale": [
             [
              0,
              "#0d0887"
             ],
             [
              0.1111111111111111,
              "#46039f"
             ],
             [
              0.2222222222222222,
              "#7201a8"
             ],
             [
              0.3333333333333333,
              "#9c179e"
             ],
             [
              0.4444444444444444,
              "#bd3786"
             ],
             [
              0.5555555555555556,
              "#d8576b"
             ],
             [
              0.6666666666666666,
              "#ed7953"
             ],
             [
              0.7777777777777778,
              "#fb9f3a"
             ],
             [
              0.8888888888888888,
              "#fdca26"
             ],
             [
              1,
              "#f0f921"
             ]
            ],
            "type": "heatmap"
           }
          ],
          "heatmapgl": [
           {
            "colorbar": {
             "outlinewidth": 0,
             "ticks": ""
            },
            "colorscale": [
             [
              0,
              "#0d0887"
             ],
             [
              0.1111111111111111,
              "#46039f"
             ],
             [
              0.2222222222222222,
              "#7201a8"
             ],
             [
              0.3333333333333333,
              "#9c179e"
             ],
             [
              0.4444444444444444,
              "#bd3786"
             ],
             [
              0.5555555555555556,
              "#d8576b"
             ],
             [
              0.6666666666666666,
              "#ed7953"
             ],
             [
              0.7777777777777778,
              "#fb9f3a"
             ],
             [
              0.8888888888888888,
              "#fdca26"
             ],
             [
              1,
              "#f0f921"
             ]
            ],
            "type": "heatmapgl"
           }
          ],
          "histogram": [
           {
            "marker": {
             "pattern": {
              "fillmode": "overlay",
              "size": 10,
              "solidity": 0.2
             }
            },
            "type": "histogram"
           }
          ],
          "histogram2d": [
           {
            "colorbar": {
             "outlinewidth": 0,
             "ticks": ""
            },
            "colorscale": [
             [
              0,
              "#0d0887"
             ],
             [
              0.1111111111111111,
              "#46039f"
             ],
             [
              0.2222222222222222,
              "#7201a8"
             ],
             [
              0.3333333333333333,
              "#9c179e"
             ],
             [
              0.4444444444444444,
              "#bd3786"
             ],
             [
              0.5555555555555556,
              "#d8576b"
             ],
             [
              0.6666666666666666,
              "#ed7953"
             ],
             [
              0.7777777777777778,
              "#fb9f3a"
             ],
             [
              0.8888888888888888,
              "#fdca26"
             ],
             [
              1,
              "#f0f921"
             ]
            ],
            "type": "histogram2d"
           }
          ],
          "histogram2dcontour": [
           {
            "colorbar": {
             "outlinewidth": 0,
             "ticks": ""
            },
            "colorscale": [
             [
              0,
              "#0d0887"
             ],
             [
              0.1111111111111111,
              "#46039f"
             ],
             [
              0.2222222222222222,
              "#7201a8"
             ],
             [
              0.3333333333333333,
              "#9c179e"
             ],
             [
              0.4444444444444444,
              "#bd3786"
             ],
             [
              0.5555555555555556,
              "#d8576b"
             ],
             [
              0.6666666666666666,
              "#ed7953"
             ],
             [
              0.7777777777777778,
              "#fb9f3a"
             ],
             [
              0.8888888888888888,
              "#fdca26"
             ],
             [
              1,
              "#f0f921"
             ]
            ],
            "type": "histogram2dcontour"
           }
          ],
          "mesh3d": [
           {
            "colorbar": {
             "outlinewidth": 0,
             "ticks": ""
            },
            "type": "mesh3d"
           }
          ],
          "parcoords": [
           {
            "line": {
             "colorbar": {
              "outlinewidth": 0,
              "ticks": ""
             }
            },
            "type": "parcoords"
           }
          ],
          "pie": [
           {
            "automargin": true,
            "type": "pie"
           }
          ],
          "scatter": [
           {
            "fillpattern": {
             "fillmode": "overlay",
             "size": 10,
             "solidity": 0.2
            },
            "type": "scatter"
           }
          ],
          "scatter3d": [
           {
            "line": {
             "colorbar": {
              "outlinewidth": 0,
              "ticks": ""
             }
            },
            "marker": {
             "colorbar": {
              "outlinewidth": 0,
              "ticks": ""
             }
            },
            "type": "scatter3d"
           }
          ],
          "scattercarpet": [
           {
            "marker": {
             "colorbar": {
              "outlinewidth": 0,
              "ticks": ""
             }
            },
            "type": "scattercarpet"
           }
          ],
          "scattergeo": [
           {
            "marker": {
             "colorbar": {
              "outlinewidth": 0,
              "ticks": ""
             }
            },
            "type": "scattergeo"
           }
          ],
          "scattergl": [
           {
            "marker": {
             "colorbar": {
              "outlinewidth": 0,
              "ticks": ""
             }
            },
            "type": "scattergl"
           }
          ],
          "scattermapbox": [
           {
            "marker": {
             "colorbar": {
              "outlinewidth": 0,
              "ticks": ""
             }
            },
            "type": "scattermapbox"
           }
          ],
          "scatterpolar": [
           {
            "marker": {
             "colorbar": {
              "outlinewidth": 0,
              "ticks": ""
             }
            },
            "type": "scatterpolar"
           }
          ],
          "scatterpolargl": [
           {
            "marker": {
             "colorbar": {
              "outlinewidth": 0,
              "ticks": ""
             }
            },
            "type": "scatterpolargl"
           }
          ],
          "scatterternary": [
           {
            "marker": {
             "colorbar": {
              "outlinewidth": 0,
              "ticks": ""
             }
            },
            "type": "scatterternary"
           }
          ],
          "surface": [
           {
            "colorbar": {
             "outlinewidth": 0,
             "ticks": ""
            },
            "colorscale": [
             [
              0,
              "#0d0887"
             ],
             [
              0.1111111111111111,
              "#46039f"
             ],
             [
              0.2222222222222222,
              "#7201a8"
             ],
             [
              0.3333333333333333,
              "#9c179e"
             ],
             [
              0.4444444444444444,
              "#bd3786"
             ],
             [
              0.5555555555555556,
              "#d8576b"
             ],
             [
              0.6666666666666666,
              "#ed7953"
             ],
             [
              0.7777777777777778,
              "#fb9f3a"
             ],
             [
              0.8888888888888888,
              "#fdca26"
             ],
             [
              1,
              "#f0f921"
             ]
            ],
            "type": "surface"
           }
          ],
          "table": [
           {
            "cells": {
             "fill": {
              "color": "#EBF0F8"
             },
             "line": {
              "color": "white"
             }
            },
            "header": {
             "fill": {
              "color": "#C8D4E3"
             },
             "line": {
              "color": "white"
             }
            },
            "type": "table"
           }
          ]
         },
         "layout": {
          "annotationdefaults": {
           "arrowcolor": "#2a3f5f",
           "arrowhead": 0,
           "arrowwidth": 1
          },
          "autotypenumbers": "strict",
          "coloraxis": {
           "colorbar": {
            "outlinewidth": 0,
            "ticks": ""
           }
          },
          "colorscale": {
           "diverging": [
            [
             0,
             "#8e0152"
            ],
            [
             0.1,
             "#c51b7d"
            ],
            [
             0.2,
             "#de77ae"
            ],
            [
             0.3,
             "#f1b6da"
            ],
            [
             0.4,
             "#fde0ef"
            ],
            [
             0.5,
             "#f7f7f7"
            ],
            [
             0.6,
             "#e6f5d0"
            ],
            [
             0.7,
             "#b8e186"
            ],
            [
             0.8,
             "#7fbc41"
            ],
            [
             0.9,
             "#4d9221"
            ],
            [
             1,
             "#276419"
            ]
           ],
           "sequential": [
            [
             0,
             "#0d0887"
            ],
            [
             0.1111111111111111,
             "#46039f"
            ],
            [
             0.2222222222222222,
             "#7201a8"
            ],
            [
             0.3333333333333333,
             "#9c179e"
            ],
            [
             0.4444444444444444,
             "#bd3786"
            ],
            [
             0.5555555555555556,
             "#d8576b"
            ],
            [
             0.6666666666666666,
             "#ed7953"
            ],
            [
             0.7777777777777778,
             "#fb9f3a"
            ],
            [
             0.8888888888888888,
             "#fdca26"
            ],
            [
             1,
             "#f0f921"
            ]
           ],
           "sequentialminus": [
            [
             0,
             "#0d0887"
            ],
            [
             0.1111111111111111,
             "#46039f"
            ],
            [
             0.2222222222222222,
             "#7201a8"
            ],
            [
             0.3333333333333333,
             "#9c179e"
            ],
            [
             0.4444444444444444,
             "#bd3786"
            ],
            [
             0.5555555555555556,
             "#d8576b"
            ],
            [
             0.6666666666666666,
             "#ed7953"
            ],
            [
             0.7777777777777778,
             "#fb9f3a"
            ],
            [
             0.8888888888888888,
             "#fdca26"
            ],
            [
             1,
             "#f0f921"
            ]
           ]
          },
          "colorway": [
           "#636efa",
           "#EF553B",
           "#00cc96",
           "#ab63fa",
           "#FFA15A",
           "#19d3f3",
           "#FF6692",
           "#B6E880",
           "#FF97FF",
           "#FECB52"
          ],
          "font": {
           "color": "#2a3f5f"
          },
          "geo": {
           "bgcolor": "white",
           "lakecolor": "white",
           "landcolor": "white",
           "showlakes": true,
           "showland": true,
           "subunitcolor": "#C8D4E3"
          },
          "hoverlabel": {
           "align": "left"
          },
          "hovermode": "closest",
          "mapbox": {
           "style": "light"
          },
          "paper_bgcolor": "white",
          "plot_bgcolor": "white",
          "polar": {
           "angularaxis": {
            "gridcolor": "#EBF0F8",
            "linecolor": "#EBF0F8",
            "ticks": ""
           },
           "bgcolor": "white",
           "radialaxis": {
            "gridcolor": "#EBF0F8",
            "linecolor": "#EBF0F8",
            "ticks": ""
           }
          },
          "scene": {
           "xaxis": {
            "backgroundcolor": "white",
            "gridcolor": "#DFE8F3",
            "gridwidth": 2,
            "linecolor": "#EBF0F8",
            "showbackground": true,
            "ticks": "",
            "zerolinecolor": "#EBF0F8"
           },
           "yaxis": {
            "backgroundcolor": "white",
            "gridcolor": "#DFE8F3",
            "gridwidth": 2,
            "linecolor": "#EBF0F8",
            "showbackground": true,
            "ticks": "",
            "zerolinecolor": "#EBF0F8"
           },
           "zaxis": {
            "backgroundcolor": "white",
            "gridcolor": "#DFE8F3",
            "gridwidth": 2,
            "linecolor": "#EBF0F8",
            "showbackground": true,
            "ticks": "",
            "zerolinecolor": "#EBF0F8"
           }
          },
          "shapedefaults": {
           "line": {
            "color": "#2a3f5f"
           }
          },
          "ternary": {
           "aaxis": {
            "gridcolor": "#DFE8F3",
            "linecolor": "#A2B1C6",
            "ticks": ""
           },
           "baxis": {
            "gridcolor": "#DFE8F3",
            "linecolor": "#A2B1C6",
            "ticks": ""
           },
           "bgcolor": "white",
           "caxis": {
            "gridcolor": "#DFE8F3",
            "linecolor": "#A2B1C6",
            "ticks": ""
           }
          },
          "title": {
           "x": 0.05
          },
          "xaxis": {
           "automargin": true,
           "gridcolor": "#EBF0F8",
           "linecolor": "#EBF0F8",
           "ticks": "",
           "title": {
            "standoff": 15
           },
           "zerolinecolor": "#EBF0F8",
           "zerolinewidth": 2
          },
          "yaxis": {
           "automargin": true,
           "gridcolor": "#EBF0F8",
           "linecolor": "#EBF0F8",
           "ticks": "",
           "title": {
            "standoff": 15
           },
           "zerolinecolor": "#EBF0F8",
           "zerolinewidth": 2
          }
         }
        },
        "title": {
         "text": "Popularity of Kendrick Lamar Songs Over Time",
         "x": 0.5
        },
        "width": 1200,
        "xaxis": {
         "anchor": "y",
         "domain": [
          0,
          1
         ],
         "title": {
          "text": "Release Date"
         }
        },
        "yaxis": {
         "anchor": "x",
         "domain": [
          0,
          1
         ],
         "title": {
          "text": "Popularity"
         }
        }
       }
      }
     },
     "metadata": {},
     "output_type": "display_data"
    }
   ],
   "source": [
    "# Extracting relevant columns (release_date, popularity, track_name, and album)\n",
    "x = pd.to_datetime(df_cleaned['release_date'])\n",
    "y = df_cleaned['popularity']\n",
    "track_name = df_cleaned['track_name']\n",
    "album = df_cleaned['album']\n",
    "\n",
    "\n",
    "# Build interative scatter plot\n",
    "fig = px.scatter(df_cleaned, x='release_date', y='popularity', \n",
    "                 hover_data=['track_name', 'album'], \n",
    "                 title=\"Popularity of Kendrick Lamar Songs Over Time\")\n",
    "\n",
    "\n",
    "# Make the scatter plot cleaner and show it \n",
    "fig.update_layout( xaxis_title='Release Date', yaxis_title='Popularity', template='plotly_white',height=800,width=1200)\n",
    "fig.update_layout(title_x=0.5)\n",
    "fig.show()\n",
    "\n",
    "#see html file for the interactive plot"
   ]
  },
  {
   "cell_type": "markdown",
   "metadata": {},
   "source": [
    "First thing remarkable is that Kendrick Lamar is not a hit producer : Even though the artist is overall popular, the popularity of songs within albums is pretty compact, there are no real outliers showing the constancy of the artist. \n",
    "\n",
    "Now what can we say about the global carrer ? \n",
    "\n",
    "After publishing different mixtapes in the 2000's, Kendrick Lamar really lunch his carreer in 2010 with a first album \"Overly dedicated\": a pretty good start that will make him known. \"Section.80\" an alternative and more jazzy album will follow as the first real success of the artist. We can already find what will make Kendric music so singular in tracks like A.D.H.D that will carry the project. Then comes out \"Good kid, m.A.A.d city\" an album with a denser poularity (less \"hits\" but less \"forgetable songs\") containing a classic of hip-hop : \"Money Trees\" which is also the more streamed track of he album.\n",
    "After recieving several grammy awards for his album, kendrick is considered as a heavywheight of the industry.\n",
    "\n",
    "Very confident, Kendrick come back in 2015 with the strong proposition and very expected \"To pimp a butterfly\": Never the conscious rap had been so mainstream. This can be explained by the hits he released before in collaboration with well known artists like Alicia Keys or SZA but also by the man that will produce the album : Pharaell Williams.\n",
    "After this success, Kendrick releases an unfinished album made of unselected songs for this previous album on LeBron James's request. Consequently aand logically, the popularity  will not be the same.\n",
    "\n",
    "After that, Kendrick will release 2 albums and the popularity will be back to normal with 2 huge successes enhanced by the soundtrack of Black panther for the frst album and a Superbawl halftime prime for the second. At this time kendrick is a superstar considered as one of the best lyricians in the rap industry coming with a jazzy proposition. \n",
    "\n",
    "We now have only 3 little but suprising points to discuss : the 3 most popular songs of Kendrick Lamar are the fruit of .... a clash with Drake, one the world best selling artist that will become viral all around the world and therfore increase the number of streams of our Artist."
   ]
  },
  {
   "cell_type": "markdown",
   "metadata": {},
   "source": [
    "3.3 CORRELATION MATRIX\n",
    "\n",
    "Let'see how our columns interact with each other !"
   ]
  },
  {
   "cell_type": "code",
   "execution_count": 418,
   "metadata": {},
   "outputs": [
    {
     "data": {
      "image/png": "[encoded data removed]",
      "text/plain": [
       "<Figure size 1200x800 with 2 Axes>"
      ]
     },
     "metadata": {},
     "output_type": "display_data"
    }
   ],
   "source": [
    "#Create the correlation matrix\n",
    "numeric_df = df.select_dtypes(include=['datetime', 'float64', 'int64'])\n",
    "correlation_matrix = numeric_df.corr()\n",
    "\n",
    "# customize the plot\n",
    "plt.figure(figsize=(12, 8))\n",
    "heatmap = sns.heatmap(correlation_matrix, annot=True, fmt='.2f', cmap='Purples', linewidths=0.5)\n",
    "plt.title('Correlation Heatmap', fontsize = 14)\n",
    "plt.show()"
   ]
  },
  {
   "cell_type": "markdown",
   "metadata": {},
   "source": [
    "2 intersting points here : \n",
    "- There is a positive correlation between popularity and time : something pretty obvious that we observed before given the fact that Kendrick Lamar is still at the top of charts. \n",
    "- A small correlation between popularity and danceability. What makes us dancing is probably more melody and rythm than lyrics ? "
   ]
  },
  {
   "cell_type": "markdown",
   "metadata": {},
   "source": [
    "3.4 Standard deviation analysis : how does the variables varies ? "
   ]
  },
  {
   "cell_type": "code",
   "execution_count": 419,
   "metadata": {},
   "outputs": [
    {
     "name": "stdout",
     "output_type": "stream",
     "text": [
      "duration: 99452.568\n",
      "popularity: 10.147\n",
      "speechiness: 0.142\n",
      "danceability: 0.134\n",
      "tempo: 32.353\n"
     ]
    }
   ],
   "source": [
    "std_duration = round(np.std(df_cleaned['duration_ms']), 3)\n",
    "std_popularity = round(np.std(df_cleaned['popularity']), 3)\n",
    "std_speechiness = round(np.std(df_cleaned['speechiness']), 3)\n",
    "std_danceability = round(np.std(df_cleaned['danceability']), 3)\n",
    "std_tempo = round(np.std(df_cleaned['tempo']), 3)\n",
    "\n",
    "# Print each variable std deviation\n",
    "print(f\"duration: {std_duration}\\n\"\n",
    "      f\"popularity: {std_popularity}\\n\"\n",
    "      f\"speechiness: {std_speechiness}\\n\"\n",
    "      f\"danceability: {std_danceability}\\n\"\n",
    "      f\"tempo: {std_tempo}\")"
   ]
  },
  {
   "cell_type": "markdown",
   "metadata": {},
   "source": [
    "4. K-MEANS CLUSTERING"
   ]
  },
  {
   "cell_type": "markdown",
   "metadata": {},
   "source": [
    "4.1 tempo normalization\n",
    "\n",
    "Because tempo is not a mesure contained in [0;1] we nedd to rescale it."
   ]
  },
  {
   "cell_type": "code",
   "execution_count": 420,
   "metadata": {},
   "outputs": [
    {
     "name": "stderr",
     "output_type": "stream",
     "text": [
      "/var/folders/xk/_lxyx6nn61b0nzyx5vp0p0ph0000gn/T/ipykernel_5650/2050258894.py:5: SettingWithCopyWarning:\n",
      "\n",
      "\n",
      "A value is trying to be set on a copy of a slice from a DataFrame.\n",
      "Try using .loc[row_indexer,col_indexer] = value instead\n",
      "\n",
      "See the caveats in the documentation: https://pandas.pydata.org/pandas-docs/stable/user_guide/indexing.html#returning-a-view-versus-a-copy\n",
      "\n"
     ]
    }
   ],
   "source": [
    "# Create a MinMaxScaler to normalize the 'tempo' column to range [0, 1]\n",
    "scaler = MinMaxScaler()\n",
    "\n",
    "# Apply the scaler to the 'tempo' column\n",
    "df_cleaned['tempo_normalized'] = scaler.fit_transform(df_cleaned[['tempo']])"
   ]
  },
  {
   "cell_type": "markdown",
   "metadata": {},
   "source": [
    "4.2 Number of cluster\n",
    "\n",
    "Now we need to decide how many clusters we want to build. to do so we will proceed to one test : the Elbow method. This method consists in computing the \"inertia\" od data corresponding to the sum of squared distances of sample to their closest cluster. To choose how many clusters will be relevant we need to choose a number with a low SSR but that remains pretty low so that the K-mean classification be understandable and meaningful"
   ]
  },
  {
   "cell_type": "code",
   "execution_count": 421,
   "metadata": {},
   "outputs": [
    {
     "data": {
      "text/plain": [
       "Text(0.5, 1.0, 'model inertia score')"
      ]
     },
     "execution_count": 421,
     "metadata": {},
     "output_type": "execute_result"
    },
    {
     "data": {
      "image/png": "[encoded data removed]",
      "text/plain": [
       "<Figure size 1200x800 with 1 Axes>"
      ]
     },
     "metadata": {},
     "output_type": "display_data"
    }
   ],
   "source": [
    "# build the subdataframe made of features we need\n",
    "clustering_features= df_cleaned[['speechiness', 'danceability', 'tempo_normalized']]\n",
    "\n",
    "# computes the inertia scores\n",
    "inertia = []\n",
    "for n in range(1,11):\n",
    "    kmeans = KMeans(n_clusters = n, random_state=7)\n",
    "    kmeans.fit(clustering_features)\n",
    "    inertia.append(kmeans.inertia_)\n",
    "inertia\n",
    "\n",
    "# plot the result so it is easier to make the choice\n",
    "plt.figure(figsize = (12,8))\n",
    "plt.plot(range(1,11),inertia)\n",
    "plt.title('model inertia score')"
   ]
  },
  {
   "cell_type": "markdown",
   "metadata": {},
   "source": [
    "Here, according to the inertia scores, the preferable number of cluster to build seems to be 2. Howether because building 3 remains relevant and enable a deepeer analysis so I will go with 3."
   ]
  },
  {
   "cell_type": "markdown",
   "metadata": {},
   "source": [
    "4.3 Classification and data visualization"
   ]
  },
  {
   "cell_type": "code",
   "execution_count": 422,
   "metadata": {},
   "outputs": [
    {
     "name": "stderr",
     "output_type": "stream",
     "text": [
      "/var/folders/xk/_lxyx6nn61b0nzyx5vp0p0ph0000gn/T/ipykernel_5650/2292808015.py:3: SettingWithCopyWarning:\n",
      "\n",
      "\n",
      "A value is trying to be set on a copy of a slice from a DataFrame.\n",
      "Try using .loc[row_indexer,col_indexer] = value instead\n",
      "\n",
      "See the caveats in the documentation: https://pandas.pydata.org/pandas-docs/stable/user_guide/indexing.html#returning-a-view-versus-a-copy\n",
      "\n"
     ]
    },
    {
     "data": {
      "text/html": [
       "<div>\n",
       "<style scoped>\n",
       "    .dataframe tbody tr th:only-of-type {\n",
       "        vertical-align: middle;\n",
       "    }\n",
       "\n",
       "    .dataframe tbody tr th {\n",
       "        vertical-align: top;\n",
       "    }\n",
       "\n",
       "    .dataframe thead th {\n",
       "        text-align: right;\n",
       "    }\n",
       "</style>\n",
       "<table border=\"1\" class=\"dataframe\">\n",
       "  <thead>\n",
       "    <tr style=\"text-align: right;\">\n",
       "      <th></th>\n",
       "      <th>track_name</th>\n",
       "      <th>album</th>\n",
       "      <th>release_date</th>\n",
       "      <th>duration_ms</th>\n",
       "      <th>popularity</th>\n",
       "      <th>speechiness</th>\n",
       "      <th>danceability</th>\n",
       "      <th>tempo</th>\n",
       "      <th>lyrics</th>\n",
       "      <th>tempo_normalized</th>\n",
       "      <th>cluster</th>\n",
       "    </tr>\n",
       "  </thead>\n",
       "  <tbody>\n",
       "    <tr>\n",
       "      <th>0</th>\n",
       "      <td>Growing Apart</td>\n",
       "      <td>Overly Dedicated</td>\n",
       "      <td>2010-09-14</td>\n",
       "      <td>220995</td>\n",
       "      <td>52</td>\n",
       "      <td>0.3660</td>\n",
       "      <td>0.586</td>\n",
       "      <td>106.835</td>\n",
       "      <td>Where are we going? Why are we slowing down?\\n...</td>\n",
       "      <td>0.313343</td>\n",
       "      <td>0</td>\n",
       "    </tr>\n",
       "    <tr>\n",
       "      <th>1</th>\n",
       "      <td>Ignorance Is Bliss</td>\n",
       "      <td>Overly Dedicated</td>\n",
       "      <td>2010-09-14</td>\n",
       "      <td>210494</td>\n",
       "      <td>55</td>\n",
       "      <td>0.3870</td>\n",
       "      <td>0.644</td>\n",
       "      <td>82.156</td>\n",
       "      <td>Lord forgive me\\nKill him where he stand and s...</td>\n",
       "      <td>0.114730</td>\n",
       "      <td>0</td>\n",
       "    </tr>\n",
       "    <tr>\n",
       "      <th>2</th>\n",
       "      <td>P&amp;P 1.5</td>\n",
       "      <td>Overly Dedicated</td>\n",
       "      <td>2010-09-14</td>\n",
       "      <td>361942</td>\n",
       "      <td>54</td>\n",
       "      <td>0.3690</td>\n",
       "      <td>0.550</td>\n",
       "      <td>146.453</td>\n",
       "      <td>Oh, what up ho? Oh, what up?\\nI said, oh, what...</td>\n",
       "      <td>0.632182</td>\n",
       "      <td>1</td>\n",
       "    </tr>\n",
       "    <tr>\n",
       "      <th>3</th>\n",
       "      <td>Alien Girl</td>\n",
       "      <td>Overly Dedicated</td>\n",
       "      <td>2010-09-14</td>\n",
       "      <td>239973</td>\n",
       "      <td>51</td>\n",
       "      <td>0.0367</td>\n",
       "      <td>0.626</td>\n",
       "      <td>95.948</td>\n",
       "      <td>She look better than Beyoncé, Alicia Keys, Hal...</td>\n",
       "      <td>0.225726</td>\n",
       "      <td>0</td>\n",
       "    </tr>\n",
       "    <tr>\n",
       "      <th>4</th>\n",
       "      <td>Opposites Attract</td>\n",
       "      <td>Overly Dedicated</td>\n",
       "      <td>2010-09-14</td>\n",
       "      <td>271909</td>\n",
       "      <td>53</td>\n",
       "      <td>0.4350</td>\n",
       "      <td>0.608</td>\n",
       "      <td>192.157</td>\n",
       "      <td>Uh, yeah, uh, yeah\\nUh, yeah, uh\\nWe hurt peop...</td>\n",
       "      <td>1.000000</td>\n",
       "      <td>1</td>\n",
       "    </tr>\n",
       "    <tr>\n",
       "      <th>...</th>\n",
       "      <td>...</td>\n",
       "      <td>...</td>\n",
       "      <td>...</td>\n",
       "      <td>...</td>\n",
       "      <td>...</td>\n",
       "      <td>...</td>\n",
       "      <td>...</td>\n",
       "      <td>...</td>\n",
       "      <td>...</td>\n",
       "      <td>...</td>\n",
       "      <td>...</td>\n",
       "    </tr>\n",
       "    <tr>\n",
       "      <th>96</th>\n",
       "      <td>Mirror</td>\n",
       "      <td>Mr. Morale &amp; The Big Steppers</td>\n",
       "      <td>2022-05-13</td>\n",
       "      <td>256006</td>\n",
       "      <td>67</td>\n",
       "      <td>0.0639</td>\n",
       "      <td>0.652</td>\n",
       "      <td>91.933</td>\n",
       "      <td>The pressure's taking over me, it's beginning ...</td>\n",
       "      <td>0.193414</td>\n",
       "      <td>0</td>\n",
       "    </tr>\n",
       "    <tr>\n",
       "      <th>97</th>\n",
       "      <td>The Heart Part 5</td>\n",
       "      <td>Mr. Morale &amp; The Big Steppers</td>\n",
       "      <td>2022-05-13</td>\n",
       "      <td>332228</td>\n",
       "      <td>65</td>\n",
       "      <td>0.2970</td>\n",
       "      <td>0.700</td>\n",
       "      <td>97.405</td>\n",
       "      <td>As I get a little older, I realize life is per...</td>\n",
       "      <td>0.237451</td>\n",
       "      <td>0</td>\n",
       "    </tr>\n",
       "    <tr>\n",
       "      <th>98</th>\n",
       "      <td>euphoria</td>\n",
       "      <td>Diss Tracks</td>\n",
       "      <td>2024-04-30</td>\n",
       "      <td>383639</td>\n",
       "      <td>94</td>\n",
       "      <td>0.1100</td>\n",
       "      <td>0.831</td>\n",
       "      <td>139.948</td>\n",
       "      <td>​eurt si em tuoba yas yeht gnihtyrev\\nE\\nEupho...</td>\n",
       "      <td>0.579831</td>\n",
       "      <td>2</td>\n",
       "    </tr>\n",
       "    <tr>\n",
       "      <th>100</th>\n",
       "      <td>meet the grahams</td>\n",
       "      <td>Diss Tracks</td>\n",
       "      <td>2024-05-03</td>\n",
       "      <td>392138</td>\n",
       "      <td>87</td>\n",
       "      <td>0.3090</td>\n",
       "      <td>0.479</td>\n",
       "      <td>74.980</td>\n",
       "      <td>Dear Adonis\\nI'm sorry that that man is your f...</td>\n",
       "      <td>0.056979</td>\n",
       "      <td>0</td>\n",
       "    </tr>\n",
       "    <tr>\n",
       "      <th>101</th>\n",
       "      <td>Not Like Us</td>\n",
       "      <td>Diss Tracks</td>\n",
       "      <td>2024-05-04</td>\n",
       "      <td>274192</td>\n",
       "      <td>96</td>\n",
       "      <td>0.0776</td>\n",
       "      <td>0.898</td>\n",
       "      <td>101.061</td>\n",
       "      <td>Psst, I see dead people\\n(Mustard on the beat,...</td>\n",
       "      <td>0.266874</td>\n",
       "      <td>2</td>\n",
       "    </tr>\n",
       "  </tbody>\n",
       "</table>\n",
       "<p>101 rows × 11 columns</p>\n",
       "</div>"
      ],
      "text/plain": [
       "             track_name                          album release_date  \\\n",
       "0         Growing Apart               Overly Dedicated   2010-09-14   \n",
       "1    Ignorance Is Bliss               Overly Dedicated   2010-09-14   \n",
       "2               P&P 1.5               Overly Dedicated   2010-09-14   \n",
       "3            Alien Girl               Overly Dedicated   2010-09-14   \n",
       "4     Opposites Attract               Overly Dedicated   2010-09-14   \n",
       "..                  ...                            ...          ...   \n",
       "96               Mirror  Mr. Morale & The Big Steppers   2022-05-13   \n",
       "97     The Heart Part 5  Mr. Morale & The Big Steppers   2022-05-13   \n",
       "98             euphoria                    Diss Tracks   2024-04-30   \n",
       "100    meet the grahams                    Diss Tracks   2024-05-03   \n",
       "101         Not Like Us                    Diss Tracks   2024-05-04   \n",
       "\n",
       "     duration_ms  popularity  speechiness  danceability    tempo  \\\n",
       "0         220995          52       0.3660         0.586  106.835   \n",
       "1         210494          55       0.3870         0.644   82.156   \n",
       "2         361942          54       0.3690         0.550  146.453   \n",
       "3         239973          51       0.0367         0.626   95.948   \n",
       "4         271909          53       0.4350         0.608  192.157   \n",
       "..           ...         ...          ...           ...      ...   \n",
       "96        256006          67       0.0639         0.652   91.933   \n",
       "97        332228          65       0.2970         0.700   97.405   \n",
       "98        383639          94       0.1100         0.831  139.948   \n",
       "100       392138          87       0.3090         0.479   74.980   \n",
       "101       274192          96       0.0776         0.898  101.061   \n",
       "\n",
       "                                                lyrics  tempo_normalized  \\\n",
       "0    Where are we going? Why are we slowing down?\\n...          0.313343   \n",
       "1    Lord forgive me\\nKill him where he stand and s...          0.114730   \n",
       "2    Oh, what up ho? Oh, what up?\\nI said, oh, what...          0.632182   \n",
       "3    She look better than Beyoncé, Alicia Keys, Hal...          0.225726   \n",
       "4    Uh, yeah, uh, yeah\\nUh, yeah, uh\\nWe hurt peop...          1.000000   \n",
       "..                                                 ...               ...   \n",
       "96   The pressure's taking over me, it's beginning ...          0.193414   \n",
       "97   As I get a little older, I realize life is per...          0.237451   \n",
       "98   ​eurt si em tuoba yas yeht gnihtyrev\\nE\\nEupho...          0.579831   \n",
       "100  Dear Adonis\\nI'm sorry that that man is your f...          0.056979   \n",
       "101  Psst, I see dead people\\n(Mustard on the beat,...          0.266874   \n",
       "\n",
       "     cluster  \n",
       "0          0  \n",
       "1          0  \n",
       "2          1  \n",
       "3          0  \n",
       "4          1  \n",
       "..       ...  \n",
       "96         0  \n",
       "97         0  \n",
       "98         2  \n",
       "100        0  \n",
       "101        2  \n",
       "\n",
       "[101 rows x 11 columns]"
      ]
     },
     "execution_count": 422,
     "metadata": {},
     "output_type": "execute_result"
    }
   ],
   "source": [
    "#creates the kmeans algorithm with 3 features and 3 clusters\n",
    "kmeans = KMeans(n_clusters = 3, random_state=7)\n",
    "df_cleaned['cluster'] = kmeans.fit_predict(clustering_features)\n",
    "df_cleaned"
   ]
  },
  {
   "cell_type": "code",
   "execution_count": 423,
   "metadata": {},
   "outputs": [
    {
     "data": {
      "image/png": "[encoded data removed]",
      "text/plain": [
       "<Figure size 1000x800 with 2 Axes>"
      ]
     },
     "metadata": {},
     "output_type": "display_data"
    }
   ],
   "source": [
    "# Create figure and 3D axis\n",
    "fig = plt.figure(figsize=(10, 8))\n",
    "ax = fig.add_subplot(111, projection='3d')\n",
    "\n",
    "sc = ax.scatter(df_cleaned['speechiness'], df_cleaned['danceability'], df_cleaned['tempo_normalized'], \n",
    "                c=df_cleaned['cluster'], cmap='viridis', s=60)\n",
    "\n",
    "# Plot it \n",
    "ax.set_xlabel('Speechiness')\n",
    "ax.set_ylabel('Danceability')\n",
    "ax.set_zlabel('Tempo (Normalized)')\n",
    "plt.colorbar(sc)\n",
    "plt.title(\"Kendrick Lamar Music Clustering in 3D\", fontsize=16)\n",
    "\n",
    "# rotate the plot to have a better view\n",
    "ax.view_init(elev=20, azim=45)\n",
    "plt.show()"
   ]
  },
  {
   "cell_type": "code",
   "execution_count": 424,
   "metadata": {},
   "outputs": [
    {
     "data": {
      "application/vnd.plotly.v1+json": {
       "config": {
        "plotlyServerURL": "https://plot.ly"
       },
       "data": [
        {
         "customdata": [
          [
           "Growing Apart",
           "Overly Dedicated"
          ],
          [
           "Ignorance Is Bliss",
           "Overly Dedicated"
          ],
          [
           "P&P 1.5",
           "Overly Dedicated"
          ],
          [
           "Alien Girl",
           "Overly Dedicated"
          ],
          [
           "Opposites Attract",
           "Overly Dedicated"
          ],
          [
           "Michael Jordan",
           "Overly Dedicated"
          ],
          [
           "R.O.T.C",
           "Overly Dedicated"
          ],
          [
           "Barbed Wire",
           "Overly Dedicated"
          ],
          [
           "Average Joe",
           "Overly Dedicated"
          ],
          [
           "H.O.C",
           "Overly Dedicated"
          ],
          [
           "Cut You Off",
           "Overly Dedicated"
          ],
          [
           "She Needs Me",
           "Overly Dedicated"
          ],
          [
           "Fuck Your Ethnicity",
           "Section.80"
          ],
          [
           "Hol' Up",
           "Section.80"
          ],
          [
           "A.D.H.D",
           "Section.80"
          ],
          [
           "No Make",
           "Section.80"
          ],
          [
           "Tammy's Song",
           "Section.80"
          ],
          [
           "Chapter Six",
           "Section.80"
          ],
          [
           "Ronald Reagan Era",
           "Section.80"
          ],
          [
           "Poe Mans Dreams",
           "Section.80"
          ],
          [
           "Chapter Ten",
           "Section.80"
          ],
          [
           "Keisha's Song",
           "Section.80"
          ],
          [
           "Rigamortus",
           "Section.80"
          ],
          [
           "Kush & Corinthians",
           "Section.80"
          ],
          [
           "Blow My High",
           "Section.80"
          ],
          [
           "Ab",
           "Section.80"
          ],
          [
           "HiiiPower",
           "Section.80"
          ],
          [
           "Sherane a.k.a Master Splinter’s Daughter",
           "good kid, m.A.A.d city"
          ],
          [
           "Bitch, Don’t Kill My Vibe",
           "good kid, m.A.A.d city"
          ],
          [
           "Backseat Freestyle",
           "good kid, m.A.A.d city"
          ],
          [
           "The Art of Peer Pressure",
           "good kid, m.A.A.d city"
          ],
          [
           "Money Trees",
           "good kid, m.A.A.d city"
          ],
          [
           "Poetic Justice",
           "good kid, m.A.A.d city"
          ],
          [
           "good kid",
           "good kid, m.A.A.d city"
          ],
          [
           "m.A.A.d city",
           "good kid, m.A.A.d city"
          ],
          [
           "Swimming Pools",
           "good kid, m.A.A.d city"
          ],
          [
           "Sing About Me, I'm Dying Of Thirst",
           "good kid, m.A.A.d city"
          ],
          [
           "Real",
           "good kid, m.A.A.d city"
          ],
          [
           "Compton",
           "good kid, m.A.A.d city"
          ],
          [
           "The Recipe",
           "good kid, m.A.A.d city"
          ],
          [
           "Black Boy Fly",
           "good kid, m.A.A.d city"
          ],
          [
           "Now Or Never",
           "good kid, m.A.A.d city"
          ],
          [
           "Wesley's Theory",
           "To Pimp A Butterfly"
          ],
          [
           "For Free?",
           "To Pimp A Butterfly"
          ],
          [
           "King Kunta",
           "To Pimp A Butterfly"
          ],
          [
           "Institutionalized",
           "To Pimp A Butterfly"
          ],
          [
           "These Walls",
           "To Pimp A Butterfly"
          ],
          [
           "u",
           "To Pimp A Butterfly"
          ],
          [
           "Alright",
           "To Pimp A Butterfly"
          ],
          [
           "For Sale?",
           "To Pimp A Butterfly"
          ],
          [
           "Momma",
           "To Pimp A Butterfly"
          ],
          [
           "Hood Politics",
           "To Pimp A Butterfly"
          ],
          [
           "How Much A Dollar Cost",
           "To Pimp A Butterfly"
          ],
          [
           "Complexion",
           "To Pimp A Butterfly"
          ],
          [
           "The Blacker The Berry",
           "To Pimp A Butterfly"
          ],
          [
           "You Ain't Gotta Lie",
           "To Pimp A Butterfly"
          ],
          [
           "i",
           "To Pimp A Butterfly"
          ],
          [
           "Mortal Man",
           "To Pimp A Butterfly"
          ],
          [
           "untitled 01 | 08.19.2014.",
           "untitled unmastered."
          ],
          [
           "untitled 02 | 06.23.2014.",
           "untitled unmastered."
          ],
          [
           "untitled 03 | 05.28.2013.",
           "untitled unmastered."
          ],
          [
           "untitled 04 | 08.14.2014.",
           "untitled unmastered."
          ],
          [
           "untitled 05 | 09.21.2014.",
           "untitled unmastered."
          ],
          [
           "untitled 06 | 06.30.2014.",
           "untitled unmastered."
          ],
          [
           "untitled 07 | 2014",
           "untitled unmastered."
          ],
          [
           "untitled 08 | 09.06.2014.",
           "untitled unmastered."
          ],
          [
           "BLOOD.",
           "DAMN."
          ],
          [
           "DNA.",
           "DAMN."
          ],
          [
           "YAH.",
           "DAMN."
          ],
          [
           "ELEMENT.",
           "DAMN."
          ],
          [
           "LOYALTY.",
           "DAMN."
          ],
          [
           "PRIDE.",
           "DAMN."
          ],
          [
           "HUMBLE.",
           "DAMN."
          ],
          [
           "LUST.",
           "DAMN."
          ],
          [
           "LOVE.",
           "DAMN."
          ],
          [
           "XXX.",
           "DAMN."
          ],
          [
           "FEAR.",
           "DAMN."
          ],
          [
           "GOD.",
           "DAMN."
          ],
          [
           "DUCKWORTH.",
           "DAMN."
          ],
          [
           "United In Grief",
           "Mr. Morale & The Big Steppers"
          ],
          [
           "N95",
           "Mr. Morale & The Big Steppers"
          ],
          [
           "Worldwide Steppers",
           "Mr. Morale & The Big Steppers"
          ],
          [
           "Die Hard",
           "Mr. Morale & The Big Steppers"
          ],
          [
           "Father Time",
           "Mr. Morale & The Big Steppers"
          ],
          [
           "Rich",
           "Mr. Morale & The Big Steppers"
          ],
          [
           "Rich Spirit",
           "Mr. Morale & The Big Steppers"
          ],
          [
           "We Cry Together",
           "Mr. Morale & The Big Steppers"
          ],
          [
           "Purple Hearts",
           "Mr. Morale & The Big Steppers"
          ],
          [
           "Count Me Out",
           "Mr. Morale & The Big Steppers"
          ],
          [
           "Crown",
           "Mr. Morale & The Big Steppers"
          ],
          [
           "Silent Hill",
           "Mr. Morale & The Big Steppers"
          ],
          [
           "Savior - Interlude",
           "Mr. Morale & The Big Steppers"
          ],
          [
           "Savior",
           "Mr. Morale & The Big Steppers"
          ],
          [
           "Auntie Diaries",
           "Mr. Morale & The Big Steppers"
          ],
          [
           "Mr. Morale",
           "Mr. Morale & The Big Steppers"
          ],
          [
           "Mother I Sober",
           "Mr. Morale & The Big Steppers"
          ],
          [
           "Mirror",
           "Mr. Morale & The Big Steppers"
          ],
          [
           "The Heart Part 5",
           "Mr. Morale & The Big Steppers"
          ],
          [
           "euphoria",
           "Diss Tracks"
          ],
          [
           "meet the grahams",
           "Diss Tracks"
          ],
          [
           "Not Like Us",
           "Diss Tracks"
          ]
         ],
         "hovertemplate": "speechiness=%{x}<br>danceability=%{y}<br>tempo_normalized=%{z}<br>track_name=%{customdata[0]}<br>album=%{customdata[1]}<br>cluster=%{marker.color}<extra></extra>",
         "legendgroup": "",
         "marker": {
          "color": [
           0,
           0,
           1,
           0,
           1,
           1,
           0,
           0,
           0,
           0,
           0,
           0,
           1,
           1,
           1,
           0,
           0,
           0,
           1,
           0,
           1,
           0,
           1,
           1,
           2,
           0,
           0,
           0,
           2,
           0,
           0,
           0,
           2,
           1,
           0,
           0,
           0,
           0,
           1,
           2,
           1,
           0,
           0,
           2,
           2,
           0,
           2,
           0,
           2,
           0,
           0,
           0,
           0,
           0,
           1,
           0,
           0,
           0,
           0,
           0,
           2,
           0,
           1,
           0,
           1,
           2,
           1,
           1,
           0,
           1,
           2,
           2,
           2,
           0,
           2,
           1,
           1,
           2,
           1,
           0,
           2,
           0,
           0,
           1,
           0,
           2,
           0,
           1,
           2,
           1,
           2,
           2,
           0,
           1,
           1,
           1,
           0,
           0,
           2,
           0,
           2
          ],
          "coloraxis": "coloraxis",
          "symbol": "circle"
         },
         "mode": "markers",
         "name": "",
         "scene": "scene",
         "showlegend": false,
         "type": "scatter3d",
         "x": [
          0.366,
          0.387,
          0.369,
          0.0367,
          0.435,
          0.287,
          0.316,
          0.186,
          0.248,
          0.391,
          0.481,
          0.265,
          0.328,
          0.345,
          0.24,
          0.0901,
          0.438,
          0.0823,
          0.335,
          0.28,
          0.215,
          0.377,
          0.409,
          0.201,
          0.274,
          0.379,
          0.282,
          0.518,
          0.0943,
          0.3,
          0.356,
          0.157,
          0.378,
          0.308,
          0.271,
          0.417,
          0.398,
          0.194,
          0.419,
          0.0725,
          0.15,
          0.21,
          0.265,
          0.197,
          0.0977,
          0.453,
          0.137,
          0.432,
          0.238,
          0.0831,
          0.325,
          0.376,
          0.198,
          0.303,
          0.305,
          0.223,
          0.324,
          0.75,
          0.405,
          0.451,
          0.269,
          0.252,
          0.496,
          0.0461,
          0.504,
          0.204,
          0.265,
          0.357,
          0.196,
          0.485,
          0.0573,
          0.0572,
          0.102,
          0.508,
          0.0924,
          0.414,
          0.281,
          0.0813,
          0.615,
          0.404,
          0.105,
          0.368,
          0.247,
          0.344,
          0.0775,
          0.208,
          0.345,
          0.296,
          0.091,
          0.0358,
          0.0767,
          0.216,
          0.446,
          0.358,
          0.312,
          0.329,
          0.0639,
          0.297,
          0.11,
          0.309,
          0.0776
         ],
         "y": [
          0.586,
          0.644,
          0.55,
          0.626,
          0.608,
          0.713,
          0.645,
          0.613,
          0.74,
          0.613,
          0.685,
          0.606,
          0.601,
          0.607,
          0.609,
          0.535,
          0.477,
          0.51,
          0.424,
          0.736,
          0.515,
          0.465,
          0.52,
          0.383,
          0.959,
          0.471,
          0.695,
          0.504,
          0.586,
          0.547,
          0.555,
          0.716,
          0.778,
          0.451,
          0.487,
          0.669,
          0.654,
          0.652,
          0.341,
          0.764,
          0.593,
          0.535,
          0.509,
          0.526,
          0.884,
          0.539,
          0.752,
          0.406,
          0.796,
          0.301,
          0.615,
          0.731,
          0.624,
          0.665,
          0.553,
          0.443,
          0.541,
          0.567,
          0.57,
          0.667,
          0.813,
          0.512,
          0.461,
          0.669,
          0.567,
          0.85,
          0.357,
          0.638,
          0.67,
          0.748,
          0.658,
          0.665,
          0.908,
          0.678,
          0.8,
          0.568,
          0.588,
          0.706,
          0.552,
          0.529,
          0.79,
          0.514,
          0.775,
          0.514,
          0.481,
          0.852,
          0.648,
          0.567,
          0.776,
          0.355,
          0.907,
          0.618,
          0.605,
          0.52,
          0.727,
          0.492,
          0.652,
          0.7,
          0.831,
          0.479,
          0.898
         ],
         "z": [
          0.3133425078667599,
          0.11472995485163806,
          0.6321816879531937,
          0.2257257136418872,
          0.9999999999999999,
          0.6928140869327278,
          0.24549924752730212,
          0.2822215247430727,
          0.19075786474806233,
          0.0742332423927825,
          0.12137746766781743,
          0.25950248275751053,
          0.6685096211883436,
          0.7088775682657716,
          0.7230176167137464,
          0.18592111510820297,
          0.2367432015902523,
          0,
          0.801315016457825,
          0.16275944212398485,
          0.5462227480141962,
          0.13863202877906267,
          0.8861633549820128,
          0.8762564684484574,
          0.4187530682376043,
          0.38541088228429776,
          0.10561980411566341,
          0.11402979309012762,
          0.5315917815495302,
          0.08030131099253957,
          0.2176054467756342,
          0.0327707895732231,
          0.5477196455732875,
          0.8713633839542237,
          0.18643617663391188,
          0.052117788132660436,
          0.34443934748142946,
          0.25872989046894734,
          0.8277763023411154,
          0.5078184730035328,
          0.7418897929291709,
          0.26263309109345945,
          0.37461873375343024,
          0.49424177309930195,
          0.31514522320674077,
          0.10634410938619143,
          0.3227584763836241,
          0.029350459129062978,
          0.3390875363158614,
          0.08962070547333345,
          0.35421746863355774,
          0.1610533008200744,
          0.1613430229282855,
          0.17747893478838206,
          0.8704378827752156,
          0.20797218667761164,
          0.4200487698882154,
          0.1531905647166758,
          0.2759603080711749,
          0.17331820340101556,
          0.28983477791995615,
          0.2829297343409223,
          0.6924438864611248,
          0.17047731717327785,
          0.4754822665926265,
          0.41932446461768746,
          0.7163137690431925,
          0.5795488382948243,
          0.01678778660357161,
          0.9817636028553721,
          0.34431862993634144,
          0.570929605575541,
          0.6608158896480679,
          0.21198805701087253,
          0.4680460658152056,
          0.822609591411349,
          0.6640591676927655,
          0.5237531889551491,
          0.858028119140169,
          0.1426881382940195,
          0.5798948952574098,
          0.07496559549964987,
          0.2662868087914563,
          0.6838166059055021,
          0.19064519503931354,
          0.22595910089572413,
          0.3137851388654159,
          0.5657789903184528,
          0.5319539341847942,
          0.8484753374055384,
          0.5808123486000786,
          0.39615474379713,
          0.4582438011540596,
          0.48000515061525684,
          0.8540766314976217,
          0.5803455740924052,
          0.1934136507399985,
          0.23745141118810198,
          0.5798305125666964,
          0.05697868128153738,
          0.2668743008442179
         ]
        }
       ],
       "layout": {
        "coloraxis": {
         "colorbar": {
          "title": {
           "text": "cluster"
          }
         },
         "colorscale": [
          [
           0,
           "#0d0887"
          ],
          [
           0.1111111111111111,
           "#46039f"
          ],
          [
           0.2222222222222222,
           "#7201a8"
          ],
          [
           0.3333333333333333,
           "#9c179e"
          ],
          [
           0.4444444444444444,
           "#bd3786"
          ],
          [
           0.5555555555555556,
           "#d8576b"
          ],
          [
           0.6666666666666666,
           "#ed7953"
          ],
          [
           0.7777777777777778,
           "#fb9f3a"
          ],
          [
           0.8888888888888888,
           "#fdca26"
          ],
          [
           1,
           "#f0f921"
          ]
         ]
        },
        "legend": {
         "tracegroupgap": 0
        },
        "scene": {
         "domain": {
          "x": [
           0,
           1
          ],
          "y": [
           0,
           1
          ]
         },
         "xaxis": {
          "title": {
           "text": "speechiness"
          }
         },
         "yaxis": {
          "title": {
           "text": "danceability"
          }
         },
         "zaxis": {
          "title": {
           "text": "tempo_normalized"
          }
         }
        },
        "template": {
         "data": {
          "bar": [
           {
            "error_x": {
             "color": "#2a3f5f"
            },
            "error_y": {
             "color": "#2a3f5f"
            },
            "marker": {
             "line": {
              "color": "#E5ECF6",
              "width": 0.5
             },
             "pattern": {
              "fillmode": "overlay",
              "size": 10,
              "solidity": 0.2
             }
            },
            "type": "bar"
           }
          ],
          "barpolar": [
           {
            "marker": {
             "line": {
              "color": "#E5ECF6",
              "width": 0.5
             },
             "pattern": {
              "fillmode": "overlay",
              "size": 10,
              "solidity": 0.2
             }
            },
            "type": "barpolar"
           }
          ],
          "carpet": [
           {
            "aaxis": {
             "endlinecolor": "#2a3f5f",
             "gridcolor": "white",
             "linecolor": "white",
             "minorgridcolor": "white",
             "startlinecolor": "#2a3f5f"
            },
            "baxis": {
             "endlinecolor": "#2a3f5f",
             "gridcolor": "white",
             "linecolor": "white",
             "minorgridcolor": "white",
             "startlinecolor": "#2a3f5f"
            },
            "type": "carpet"
           }
          ],
          "choropleth": [
           {
            "colorbar": {
             "outlinewidth": 0,
             "ticks": ""
            },
            "type": "choropleth"
           }
          ],
          "contour": [
           {
            "colorbar": {
             "outlinewidth": 0,
             "ticks": ""
            },
            "colorscale": [
             [
              0,
              "#0d0887"
             ],
             [
              0.1111111111111111,
              "#46039f"
             ],
             [
              0.2222222222222222,
              "#7201a8"
             ],
             [
              0.3333333333333333,
              "#9c179e"
             ],
             [
              0.4444444444444444,
              "#bd3786"
             ],
             [
              0.5555555555555556,
              "#d8576b"
             ],
             [
              0.6666666666666666,
              "#ed7953"
             ],
             [
              0.7777777777777778,
              "#fb9f3a"
             ],
             [
              0.8888888888888888,
              "#fdca26"
             ],
             [
              1,
              "#f0f921"
             ]
            ],
            "type": "contour"
           }
          ],
          "contourcarpet": [
           {
            "colorbar": {
             "outlinewidth": 0,
             "ticks": ""
            },
            "type": "contourcarpet"
           }
          ],
          "heatmap": [
           {
            "colorbar": {
             "outlinewidth": 0,
             "ticks": ""
            },
            "colorscale": [
             [
              0,
              "#0d0887"
             ],
             [
              0.1111111111111111,
              "#46039f"
             ],
             [
              0.2222222222222222,
              "#7201a8"
             ],
             [
              0.3333333333333333,
              "#9c179e"
             ],
             [
              0.4444444444444444,
              "#bd3786"
             ],
             [
              0.5555555555555556,
              "#d8576b"
             ],
             [
              0.6666666666666666,
              "#ed7953"
             ],
             [
              0.7777777777777778,
              "#fb9f3a"
             ],
             [
              0.8888888888888888,
              "#fdca26"
             ],
             [
              1,
              "#f0f921"
             ]
            ],
            "type": "heatmap"
           }
          ],
          "heatmapgl": [
           {
            "colorbar": {
             "outlinewidth": 0,
             "ticks": ""
            },
            "colorscale": [
             [
              0,
              "#0d0887"
             ],
             [
              0.1111111111111111,
              "#46039f"
             ],
             [
              0.2222222222222222,
              "#7201a8"
             ],
             [
              0.3333333333333333,
              "#9c179e"
             ],
             [
              0.4444444444444444,
              "#bd3786"
             ],
             [
              0.5555555555555556,
              "#d8576b"
             ],
             [
              0.6666666666666666,
              "#ed7953"
             ],
             [
              0.7777777777777778,
              "#fb9f3a"
             ],
             [
              0.8888888888888888,
              "#fdca26"
             ],
             [
              1,
              "#f0f921"
             ]
            ],
            "type": "heatmapgl"
           }
          ],
          "histogram": [
           {
            "marker": {
             "pattern": {
              "fillmode": "overlay",
              "size": 10,
              "solidity": 0.2
             }
            },
            "type": "histogram"
           }
          ],
          "histogram2d": [
           {
            "colorbar": {
             "outlinewidth": 0,
             "ticks": ""
            },
            "colorscale": [
             [
              0,
              "#0d0887"
             ],
             [
              0.1111111111111111,
              "#46039f"
             ],
             [
              0.2222222222222222,
              "#7201a8"
             ],
             [
              0.3333333333333333,
              "#9c179e"
             ],
             [
              0.4444444444444444,
              "#bd3786"
             ],
             [
              0.5555555555555556,
              "#d8576b"
             ],
             [
              0.6666666666666666,
              "#ed7953"
             ],
             [
              0.7777777777777778,
              "#fb9f3a"
             ],
             [
              0.8888888888888888,
              "#fdca26"
             ],
             [
              1,
              "#f0f921"
             ]
            ],
            "type": "histogram2d"
           }
          ],
          "histogram2dcontour": [
           {
            "colorbar": {
             "outlinewidth": 0,
             "ticks": ""
            },
            "colorscale": [
             [
              0,
              "#0d0887"
             ],
             [
              0.1111111111111111,
              "#46039f"
             ],
             [
              0.2222222222222222,
              "#7201a8"
             ],
             [
              0.3333333333333333,
              "#9c179e"
             ],
             [
              0.4444444444444444,
              "#bd3786"
             ],
             [
              0.5555555555555556,
              "#d8576b"
             ],
             [
              0.6666666666666666,
              "#ed7953"
             ],
             [
              0.7777777777777778,
              "#fb9f3a"
             ],
             [
              0.8888888888888888,
              "#fdca26"
             ],
             [
              1,
              "#f0f921"
             ]
            ],
            "type": "histogram2dcontour"
           }
          ],
          "mesh3d": [
           {
            "colorbar": {
             "outlinewidth": 0,
             "ticks": ""
            },
            "type": "mesh3d"
           }
          ],
          "parcoords": [
           {
            "line": {
             "colorbar": {
              "outlinewidth": 0,
              "ticks": ""
             }
            },
            "type": "parcoords"
           }
          ],
          "pie": [
           {
            "automargin": true,
            "type": "pie"
           }
          ],
          "scatter": [
           {
            "fillpattern": {
             "fillmode": "overlay",
             "size": 10,
             "solidity": 0.2
            },
            "type": "scatter"
           }
          ],
          "scatter3d": [
           {
            "line": {
             "colorbar": {
              "outlinewidth": 0,
              "ticks": ""
             }
            },
            "marker": {
             "colorbar": {
              "outlinewidth": 0,
              "ticks": ""
             }
            },
            "type": "scatter3d"
           }
          ],
          "scattercarpet": [
           {
            "marker": {
             "colorbar": {
              "outlinewidth": 0,
              "ticks": ""
             }
            },
            "type": "scattercarpet"
           }
          ],
          "scattergeo": [
           {
            "marker": {
             "colorbar": {
              "outlinewidth": 0,
              "ticks": ""
             }
            },
            "type": "scattergeo"
           }
          ],
          "scattergl": [
           {
            "marker": {
             "colorbar": {
              "outlinewidth": 0,
              "ticks": ""
             }
            },
            "type": "scattergl"
           }
          ],
          "scattermapbox": [
           {
            "marker": {
             "colorbar": {
              "outlinewidth": 0,
              "ticks": ""
             }
            },
            "type": "scattermapbox"
           }
          ],
          "scatterpolar": [
           {
            "marker": {
             "colorbar": {
              "outlinewidth": 0,
              "ticks": ""
             }
            },
            "type": "scatterpolar"
           }
          ],
          "scatterpolargl": [
           {
            "marker": {
             "colorbar": {
              "outlinewidth": 0,
              "ticks": ""
             }
            },
            "type": "scatterpolargl"
           }
          ],
          "scatterternary": [
           {
            "marker": {
             "colorbar": {
              "outlinewidth": 0,
              "ticks": ""
             }
            },
            "type": "scatterternary"
           }
          ],
          "surface": [
           {
            "colorbar": {
             "outlinewidth": 0,
             "ticks": ""
            },
            "colorscale": [
             [
              0,
              "#0d0887"
             ],
             [
              0.1111111111111111,
              "#46039f"
             ],
             [
              0.2222222222222222,
              "#7201a8"
             ],
             [
              0.3333333333333333,
              "#9c179e"
             ],
             [
              0.4444444444444444,
              "#bd3786"
             ],
             [
              0.5555555555555556,
              "#d8576b"
             ],
             [
              0.6666666666666666,
              "#ed7953"
             ],
             [
              0.7777777777777778,
              "#fb9f3a"
             ],
             [
              0.8888888888888888,
              "#fdca26"
             ],
             [
              1,
              "#f0f921"
             ]
            ],
            "type": "surface"
           }
          ],
          "table": [
           {
            "cells": {
             "fill": {
              "color": "#EBF0F8"
             },
             "line": {
              "color": "white"
             }
            },
            "header": {
             "fill": {
              "color": "#C8D4E3"
             },
             "line": {
              "color": "white"
             }
            },
            "type": "table"
           }
          ]
         },
         "layout": {
          "annotationdefaults": {
           "arrowcolor": "#2a3f5f",
           "arrowhead": 0,
           "arrowwidth": 1
          },
          "autotypenumbers": "strict",
          "coloraxis": {
           "colorbar": {
            "outlinewidth": 0,
            "ticks": ""
           }
          },
          "colorscale": {
           "diverging": [
            [
             0,
             "#8e0152"
            ],
            [
             0.1,
             "#c51b7d"
            ],
            [
             0.2,
             "#de77ae"
            ],
            [
             0.3,
             "#f1b6da"
            ],
            [
             0.4,
             "#fde0ef"
            ],
            [
             0.5,
             "#f7f7f7"
            ],
            [
             0.6,
             "#e6f5d0"
            ],
            [
             0.7,
             "#b8e186"
            ],
            [
             0.8,
             "#7fbc41"
            ],
            [
             0.9,
             "#4d9221"
            ],
            [
             1,
             "#276419"
            ]
           ],
           "sequential": [
            [
             0,
             "#0d0887"
            ],
            [
             0.1111111111111111,
             "#46039f"
            ],
            [
             0.2222222222222222,
             "#7201a8"
            ],
            [
             0.3333333333333333,
             "#9c179e"
            ],
            [
             0.4444444444444444,
             "#bd3786"
            ],
            [
             0.5555555555555556,
             "#d8576b"
            ],
            [
             0.6666666666666666,
             "#ed7953"
            ],
            [
             0.7777777777777778,
             "#fb9f3a"
            ],
            [
             0.8888888888888888,
             "#fdca26"
            ],
            [
             1,
             "#f0f921"
            ]
           ],
           "sequentialminus": [
            [
             0,
             "#0d0887"
            ],
            [
             0.1111111111111111,
             "#46039f"
            ],
            [
             0.2222222222222222,
             "#7201a8"
            ],
            [
             0.3333333333333333,
             "#9c179e"
            ],
            [
             0.4444444444444444,
             "#bd3786"
            ],
            [
             0.5555555555555556,
             "#d8576b"
            ],
            [
             0.6666666666666666,
             "#ed7953"
            ],
            [
             0.7777777777777778,
             "#fb9f3a"
            ],
            [
             0.8888888888888888,
             "#fdca26"
            ],
            [
             1,
             "#f0f921"
            ]
           ]
          },
          "colorway": [
           "#636efa",
           "#EF553B",
           "#00cc96",
           "#ab63fa",
           "#FFA15A",
           "#19d3f3",
           "#FF6692",
           "#B6E880",
           "#FF97FF",
           "#FECB52"
          ],
          "font": {
           "color": "#2a3f5f"
          },
          "geo": {
           "bgcolor": "white",
           "lakecolor": "white",
           "landcolor": "#E5ECF6",
           "showlakes": true,
           "showland": true,
           "subunitcolor": "white"
          },
          "hoverlabel": {
           "align": "left"
          },
          "hovermode": "closest",
          "mapbox": {
           "style": "light"
          },
          "paper_bgcolor": "white",
          "plot_bgcolor": "#E5ECF6",
          "polar": {
           "angularaxis": {
            "gridcolor": "white",
            "linecolor": "white",
            "ticks": ""
           },
           "bgcolor": "#E5ECF6",
           "radialaxis": {
            "gridcolor": "white",
            "linecolor": "white",
            "ticks": ""
           }
          },
          "scene": {
           "xaxis": {
            "backgroundcolor": "#E5ECF6",
            "gridcolor": "white",
            "gridwidth": 2,
            "linecolor": "white",
            "showbackground": true,
            "ticks": "",
            "zerolinecolor": "white"
           },
           "yaxis": {
            "backgroundcolor": "#E5ECF6",
            "gridcolor": "white",
            "gridwidth": 2,
            "linecolor": "white",
            "showbackground": true,
            "ticks": "",
            "zerolinecolor": "white"
           },
           "zaxis": {
            "backgroundcolor": "#E5ECF6",
            "gridcolor": "white",
            "gridwidth": 2,
            "linecolor": "white",
            "showbackground": true,
            "ticks": "",
            "zerolinecolor": "white"
           }
          },
          "shapedefaults": {
           "line": {
            "color": "#2a3f5f"
           }
          },
          "ternary": {
           "aaxis": {
            "gridcolor": "white",
            "linecolor": "white",
            "ticks": ""
           },
           "baxis": {
            "gridcolor": "white",
            "linecolor": "white",
            "ticks": ""
           },
           "bgcolor": "#E5ECF6",
           "caxis": {
            "gridcolor": "white",
            "linecolor": "white",
            "ticks": ""
           }
          },
          "title": {
           "x": 0.05
          },
          "xaxis": {
           "automargin": true,
           "gridcolor": "white",
           "linecolor": "white",
           "ticks": "",
           "title": {
            "standoff": 15
           },
           "zerolinecolor": "white",
           "zerolinewidth": 2
          },
          "yaxis": {
           "automargin": true,
           "gridcolor": "white",
           "linecolor": "white",
           "ticks": "",
           "title": {
            "standoff": 15
           },
           "zerolinecolor": "white",
           "zerolinewidth": 2
          }
         }
        },
        "title": {
         "text": "Kendrick Lamar music Clustering in 3D",
         "x": 0.5
        }
       }
      }
     },
     "metadata": {},
     "output_type": "display_data"
    }
   ],
   "source": [
    "#creates a 3D scatter plot with the 3 new clusters\n",
    "fig = px.scatter_3d(df_cleaned,x='speechiness',y='danceability',z= 'tempo_normalized',color= 'cluster',hover_data=['track_name','album'],title='Kendrick Lamar music Clustering in 3D')\n",
    "fig.update_layout(title_x=0.5)\n",
    "fig.show()\n",
    "\n",
    "#see html : Kmeans_Clustering for interactive plot (HIGHLY RECOMMENDED)"
   ]
  },
  {
   "cell_type": "markdown",
   "metadata": {},
   "source": [
    "Now let's try to understand this classification:\n",
    "- CLUSTER 0 : low tempo, low danceablity, average speechiness\n",
    "-> More jazzy and instrumental songs similar to balades like Money trees\n",
    "\n",
    "- CLUSTER 1 : high tempo, low danceability, average speechiness\n",
    "-> more concious, raw and pure rap song like Mr.Morale\n",
    "\n",
    "- CLUSTER 2 : high danceability, avergae tempo, low speenchiness\n",
    "-> more rythmic and energic song like Humble"
   ]
  },
  {
   "cell_type": "markdown",
   "metadata": {},
   "source": [
    "4.4 Interpretation\n",
    "\n",
    "This being done we can try to understand what type of music is doing Kendrick Lamar and get more information about the \"color\" of each album. First let's take a look at the place occupied by each cluster in each album."
   ]
  },
  {
   "cell_type": "code",
   "execution_count": 425,
   "metadata": {},
   "outputs": [
    {
     "data": {
      "image/png": "[encoded data removed]",
      "text/plain": [
       "<Figure size 2000x1000 with 1 Axes>"
      ]
     },
     "metadata": {},
     "output_type": "display_data"
    }
   ],
   "source": [
    "# Group by album and cluster to count the number of tracks in each cluster per album\n",
    "cluster_distribution = df_cleaned.groupby(['album', 'cluster']).size().reset_index(name='count')\n",
    "\n",
    "# Calculate the number of tracks per album\n",
    "total_tracks_per_album = df_cleaned.groupby('album').size().reset_index(name='total_tracks')\n",
    "\n",
    "# Merge the cluster distribution with total tracks per album\n",
    "cluster_distribution = pd.merge(cluster_distribution, total_tracks_per_album, on='album')\n",
    "\n",
    "# Calculate the percentage of tracks in each cluster for each album\n",
    "cluster_distribution['percentage'] = (cluster_distribution['count'] / cluster_distribution['total_tracks']) * 100\n",
    "\n",
    "# Plot the results \n",
    "plt.figure(figsize=(20, 10))\n",
    "sns.barplot(data=cluster_distribution, x='album', y='percentage',hue='cluster', palette='plasma')\n",
    "plt.xticks(rotation=45)\n",
    "\n",
    "# Add a title and labels\n",
    "plt.title('Cluster Distribution by Album (Percentage)')\n",
    "plt.xlabel('Album')\n",
    "plt.ylabel('Percentage of Tracks in Each Cluster')\n",
    "\n",
    "plt.show()\n"
   ]
  },
  {
   "cell_type": "markdown",
   "metadata": {},
   "source": [
    "Except his last album \"Diss Tracks\" with a monopol of energic songs logically corresponding to the \"battle\" mood All the albums are overall diversified.We can observe the predominancy of blue corresponding to the chill and instrumental songs that are hghly present in every album. Blue being followed by pink and the more \"rap\" and conscious songs.\n",
    "However we can distinguish albums with a more singular color : \n",
    "- \"Diss Tracks\" with the proeminency of yellow:  energic songs which logically correspond to the \"battle\" mood with Drake\n",
    "- \"Overly dedicated\" with the proeminency of blue : an introspective album that let place for emotions with a strong influence of Jazz and Soul : two genres with a relative low tempo \n",
    "- \"Damn\" with a dominance of Pink : an album that denounces racial discrimination with assertiveness and aggressivenes immersed in trap atmosphere."
   ]
  },
  {
   "cell_type": "markdown",
   "metadata": {},
   "source": [
    "Now it would be intersting to visualize how the music of Kendrick Lamars has evolved based on these clusters. To do so let's create an area chart with the proportion of clusters over time. I will not include here the \"Diss track\" album because as a stepside in the discography it is not a real one so not relevant in this analysis."
   ]
  },
  {
   "cell_type": "code",
   "execution_count": 426,
   "metadata": {},
   "outputs": [
    {
     "name": "stderr",
     "output_type": "stream",
     "text": [
      "/var/folders/xk/_lxyx6nn61b0nzyx5vp0p0ph0000gn/T/ipykernel_5650/4278997190.py:6: SettingWithCopyWarning:\n",
      "\n",
      "\n",
      "A value is trying to be set on a copy of a slice from a DataFrame.\n",
      "Try using .loc[row_indexer,col_indexer] = value instead\n",
      "\n",
      "See the caveats in the documentation: https://pandas.pydata.org/pandas-docs/stable/user_guide/indexing.html#returning-a-view-versus-a-copy\n",
      "\n"
     ]
    },
    {
     "data": {
      "image/png": "[encoded data removed]",
      "text/plain": [
       "<Figure size 1200x800 with 1 Axes>"
      ]
     },
     "metadata": {},
     "output_type": "display_data"
    }
   ],
   "source": [
    "import seaborn as sns\n",
    "import matplotlib.pyplot as plt\n",
    "import pandas as pd\n",
    "\n",
    "# Ensure 'release_date' is in datetime format\n",
    "df_cleaned['release_date'] = pd.to_datetime(df_cleaned['release_date'], errors='coerce')\n",
    "\n",
    "# Exclude the album 'Diss Tracks'\n",
    "df_cleaned_filtered = df_cleaned[df_cleaned['album'] != 'Diss Tracks']\n",
    "\n",
    "# Measure calculation (similar logic)\n",
    "cluster_distribution = df_cleaned_filtered.groupby(['album', 'cluster']).size().reset_index(name='count')\n",
    "total_tracks_per_album = df_cleaned_filtered.groupby('album').size().reset_index(name='total_tracks')\n",
    "cluster_distribution = pd.merge(cluster_distribution, total_tracks_per_album, on='album')\n",
    "cluster_distribution = pd.merge(cluster_distribution, df_cleaned_filtered[['album', 'release_date']].drop_duplicates(), on='album')\n",
    "cluster_distribution['percentage'] = (cluster_distribution['count'] / cluster_distribution['total_tracks']) * 100\n",
    "\n",
    "# Sort by release_date to ensure the timeline is correct\n",
    "cluster_distribution = cluster_distribution.sort_values(by='release_date')\n",
    "\n",
    "# Set plot size\n",
    "plt.figure(figsize=(12, 8))\n",
    "\n",
    "# Create the line plot with Seaborn\n",
    "sns.lineplot(data=cluster_distribution, x='release_date', y='percentage', hue = 'cluster', palette = 'bright', marker='o')\n",
    "\n",
    "# Fill the area under the lines for each cluster\n",
    "for cluster in cluster_distribution['cluster'].unique():\n",
    "    subset = cluster_distribution[cluster_distribution['cluster'] == cluster]\n",
    "   \n",
    "# Customize the plot\n",
    "plt.title(\"Cluster Evolution Over Time (Release Date)\", fontsize=16)\n",
    "plt.xlabel(\"Release Date\", fontsize=12)\n",
    "plt.ylabel(\"Percentage of Tracks in Each Cluster\", fontsize=12)\n",
    "plt.xticks(rotation=45)\n",
    "\n",
    "# Show the plot\n",
    "plt.grid ()\n",
    "plt.show()\n"
   ]
  },
  {
   "cell_type": "markdown",
   "metadata": {},
   "source": [
    "It is intersting to see here how the repartition of each cluster converges to 1/3. The albums of Kendrick Lamar seems to be more and more homogeneous over time. He seems to have found an equilibrium that satisfied every part of his audience which can explain how he became mainstream and succeeded to be futur-proof."
   ]
  },
  {
   "cell_type": "markdown",
   "metadata": {},
   "source": [
    "5. RECOMMANDATION SYSTEM\n",
    "\n",
    "The recommandation system I will build is based on the previous K-mean classification. The idea is to recommand to the user the 3 songs that are the closest of the input track regarding the 3D map we build previously. To do so we will need to compute the euclidian disance between each point, Sort the result based on the input track and retrieves the top 3 titles."
   ]
  },
  {
   "cell_type": "code",
   "execution_count": 427,
   "metadata": {},
   "outputs": [],
   "source": [
    "\n",
    "def track_recommendation(name):\n",
    "    \n",
    "    recommendation = []\n",
    "    \n",
    "    # Extract the features of the input track and convert it into a 1D array\n",
    "    a = df_cleaned.loc[df_cleaned['track_name'] == name, ['speechiness', 'danceability', 'tempo_normalized']].values.flatten()\n",
    "    \n",
    "    # Loop through all tracks in the dataset\n",
    "    for track in df_cleaned['track_name']:\n",
    "        # Extract the features of each track and convert it into a 1D array\n",
    "        b = df_cleaned.loc[df_cleaned['track_name'] == track, ['speechiness', 'danceability', 'tempo_normalized']].values.flatten()\n",
    "        \n",
    "        # Calculate the Euclidean distance between the input track and the current track\n",
    "        c = distance.euclidean(a, b)\n",
    "        \n",
    "        # Append the track name and the distance to the recommendation list\n",
    "        recommendation.append([track, c])\n",
    "    \n",
    "    # Sort the list by distance (ascending order)\n",
    "    recommendation.sort(key=lambda x: x[1])\n",
    "    \n",
    "    # Return the top 3 closest tracks, excluding the track itself (distance 0)\n",
    "    return recommendation[1:4] \n"
   ]
  },
  {
   "cell_type": "code",
   "execution_count": 428,
   "metadata": {},
   "outputs": [
    {
     "name": "stdout",
     "output_type": "stream",
     "text": [
      "[['GOD.', 0.06698823990179753], ['Bitch, Don’t Kill My Vibe', 0.095733350505983], ['The Recipe', 0.11839807876195285]]\n"
     ]
    }
   ],
   "source": [
    "print (track_recommendation('PRIDE.'))"
   ]
  },
  {
   "cell_type": "markdown",
   "metadata": {},
   "source": [
    "The results are pretty coherent, the algorithm works well to find \"similar songs\"!\n",
    "\n",
    " However it remains very basic as it does not take into account many features of the songs (lyrics, accousticness... ) and has no cultural indicators based for example on the what are listening simlar users, the country of residence of the user or his listening habits"
   ]
  }
 ],
 "metadata": {
  "kaggle": {
   "accelerator": "none",
   "dataSources": [
    {
     "datasetId": 5040130,
     "sourceId": 8456473,
     "sourceType": "datasetVersion"
    }
   ],
   "isGpuEnabled": false,
   "isInternetEnabled": false,
   "language": "python",
   "sourceType": "notebook"
  },
  "kernelspec": {
   "display_name": "base",
   "language": "python",
   "name": "python3"
  },
  "language_info": {
   "codemirror_mode": {
    "name": "ipython",
    "version": 3
   },
   "file_extension": ".py",
   "mimetype": "text/x-python",
   "name": "python",
   "nbconvert_exporter": "python",
   "pygments_lexer": "ipython3",
   "version": "3.12.4"
  }
 },
 "nbformat": 4,
 "nbformat_minor": 4
}
